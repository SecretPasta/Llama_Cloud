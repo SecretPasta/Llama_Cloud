{
  "nbformat": 4,
  "nbformat_minor": 0,
  "metadata": {
    "colab": {
      "provenance": [],
      "authorship_tag": "ABX9TyMxc0kTAA0RkEH7rqa9bt7P",
      "include_colab_link": true
    },
    "kernelspec": {
      "name": "python3",
      "display_name": "Python 3"
    },
    "language_info": {
      "name": "python"
    }
  },
  "cells": [
    {
      "cell_type": "markdown",
      "metadata": {
        "id": "view-in-github",
        "colab_type": "text"
      },
      "source": [
        "<a href=\"https://colab.research.google.com/github/SecretPasta/Llama_Cloud/blob/main/ex5.ipynb\" target=\"_parent\"><img src=\"https://colab.research.google.com/assets/colab-badge.svg\" alt=\"Open In Colab\"/></a>"
      ]
    },
    {
      "cell_type": "code",
      "execution_count": 1,
      "metadata": {
        "colab": {
          "base_uri": "https://localhost:8080/"
        },
        "id": "4N810ZslU-pI",
        "outputId": "4d022262-c09c-41d6-d544-17841b1bfd84"
      },
      "outputs": [
        {
          "output_type": "stream",
          "name": "stdout",
          "text": [
            "Collecting firebase\n",
            "  Downloading firebase-4.0.1-py3-none-any.whl (12 kB)\n",
            "Requirement already satisfied: requests in /usr/local/lib/python3.10/dist-packages (from firebase) (2.31.0)\n",
            "Requirement already satisfied: charset-normalizer<4,>=2 in /usr/local/lib/python3.10/dist-packages (from requests->firebase) (3.3.2)\n",
            "Requirement already satisfied: idna<4,>=2.5 in /usr/local/lib/python3.10/dist-packages (from requests->firebase) (3.6)\n",
            "Requirement already satisfied: urllib3<3,>=1.21.1 in /usr/local/lib/python3.10/dist-packages (from requests->firebase) (2.0.7)\n",
            "Requirement already satisfied: certifi>=2017.4.17 in /usr/local/lib/python3.10/dist-packages (from requests->firebase) (2024.2.2)\n",
            "Installing collected packages: firebase\n",
            "Successfully installed firebase-4.0.1\n"
          ]
        }
      ],
      "source": [
        "!pip install firebase"
      ]
    },
    {
      "cell_type": "code",
      "source": [
        "from firebase import firebase\n",
        "FBconn = firebase.FirebaseApplication('https://tirgul5-719ec-default-rtdb.europe-west1.firebasedatabase.app',None)\n",
        "while True:\n",
        "  temperature = int (input (\"what is the temperature? \"))\n",
        "\n",
        "  data_to_upload = {\n",
        "      'Temp' : temperature\n",
        "  }\n",
        "  if temperature == 0:\n",
        "    break\n",
        "  result = FBconn.post('/myTest1/',data_to_upload)\n",
        "  print(result)\n"
      ],
      "metadata": {
        "colab": {
          "base_uri": "https://localhost:8080/"
        },
        "id": "HeiSVTL0VcJ3",
        "outputId": "068bcb30-8ccf-4053-a70c-e2c883a871d1"
      },
      "execution_count": 9,
      "outputs": [
        {
          "name": "stdout",
          "output_type": "stream",
          "text": [
            "what is the temperature? 23\n",
            "{'name': '-NqMMeIVjixHHRmESoQ0'}\n",
            "what is the temperature? 22\n",
            "{'name': '-NqMMf06w45KzOtb-oiG'}\n",
            "what is the temperature? 23\n",
            "{'name': '-NqMMfVQFIol5NpU_XK5'}\n",
            "what is the temperature? 0\n"
          ]
        }
      ]
    },
    {
      "cell_type": "code",
      "source": [
        "#firebase = firebase.FirebaseApplication('https://tirgul5-719ec-default-rtdb.europe-west1.firebasedatabase.app', None)\n",
        "result = FBconn.get('/myTest1', None)\n",
        "print(result)\n"
      ],
      "metadata": {
        "colab": {
          "base_uri": "https://localhost:8080/"
        },
        "id": "On-e5AU7VxM1",
        "outputId": "4f93b27f-d8e2-4eff-b16a-da451aca3808"
      },
      "execution_count": 10,
      "outputs": [
        {
          "output_type": "stream",
          "name": "stdout",
          "text": [
            "{'-NqMMcFK7Fmdv_3LzQqI': {'Temp': 56}, '-NqMMeIVjixHHRmESoQ0': {'Temp': 23}, '-NqMMf06w45KzOtb-oiG': {'Temp': 22}, '-NqMMfVQFIol5NpU_XK5': {'Temp': 23}}\n"
          ]
        }
      ]
    },
    {
      "cell_type": "code",
      "source": [
        "import json\n",
        "res=FBconn.get('/myTest1/',None)\n",
        "\n",
        "for key in res:\n",
        "    print(key+\":\\t\", res[key])\n"
      ],
      "metadata": {
        "id": "DUHpaJftXy0o"
      },
      "execution_count": null,
      "outputs": []
    }
  ]
}