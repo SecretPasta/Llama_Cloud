{
  "nbformat": 4,
  "nbformat_minor": 0,
  "metadata": {
    "colab": {
      "provenance": [],
      "include_colab_link": true
    },
    "kernelspec": {
      "name": "python3",
      "display_name": "Python 3"
    },
    "language_info": {
      "name": "python"
    }
  },
  "cells": [
    {
      "cell_type": "markdown",
      "metadata": {
        "id": "view-in-github",
        "colab_type": "text"
      },
      "source": [
        "<a href=\"https://colab.research.google.com/github/SecretPasta/Llama_Cloud/blob/main/ex5.ipynb\" target=\"_parent\"><img src=\"https://colab.research.google.com/assets/colab-badge.svg\" alt=\"Open In Colab\"/></a>"
      ]
    },
    {
      "cell_type": "code",
      "execution_count": null,
      "metadata": {
        "colab": {
          "base_uri": "https://localhost:8080/"
        },
        "id": "4N810ZslU-pI",
        "outputId": "4d022262-c09c-41d6-d544-17841b1bfd84"
      },
      "outputs": [
        {
          "output_type": "stream",
          "name": "stdout",
          "text": [
            "Collecting firebase\n",
            "  Downloading firebase-4.0.1-py3-none-any.whl (12 kB)\n",
            "Requirement already satisfied: requests in /usr/local/lib/python3.10/dist-packages (from firebase) (2.31.0)\n",
            "Requirement already satisfied: charset-normalizer<4,>=2 in /usr/local/lib/python3.10/dist-packages (from requests->firebase) (3.3.2)\n",
            "Requirement already satisfied: idna<4,>=2.5 in /usr/local/lib/python3.10/dist-packages (from requests->firebase) (3.6)\n",
            "Requirement already satisfied: urllib3<3,>=1.21.1 in /usr/local/lib/python3.10/dist-packages (from requests->firebase) (2.0.7)\n",
            "Requirement already satisfied: certifi>=2017.4.17 in /usr/local/lib/python3.10/dist-packages (from requests->firebase) (2024.2.2)\n",
            "Installing collected packages: firebase\n",
            "Successfully installed firebase-4.0.1\n"
          ]
        }
      ],
      "source": [
        "!pip install firebase"
      ]
    },
    {
      "cell_type": "code",
      "source": [
        "from firebase import firebase\n",
        "FBconn = firebase.FirebaseApplication('https://tirgul5-719ec-default-rtdb.europe-west1.firebasedatabase.app',None)\n",
        "while True:\n",
        "  temperature = int (input (\"what is the temperature? \"))\n",
        "\n",
        "  data_to_upload = {\n",
        "      'Temp' : temperature\n",
        "  }\n",
        "  if temperature == 0:\n",
        "    break\n",
        "  result = FBconn.post('/myTest1/',data_to_upload)\n",
        "  print(result)\n"
      ],
      "metadata": {
        "colab": {
          "base_uri": "https://localhost:8080/",
          "height": 384
        },
        "id": "HeiSVTL0VcJ3",
        "outputId": "58fb35ab-dd96-494f-8c0b-823760fde22c"
      },
      "execution_count": null,
      "outputs": [
        {
          "output_type": "error",
          "ename": "ModuleNotFoundError",
          "evalue": "No module named 'firebase'",
          "traceback": [
            "\u001b[0;31m---------------------------------------------------------------------------\u001b[0m",
            "\u001b[0;31mModuleNotFoundError\u001b[0m                       Traceback (most recent call last)",
            "\u001b[0;32m<ipython-input-2-157937fc3f6a>\u001b[0m in \u001b[0;36m<cell line: 1>\u001b[0;34m()\u001b[0m\n\u001b[0;32m----> 1\u001b[0;31m \u001b[0;32mfrom\u001b[0m \u001b[0mfirebase\u001b[0m \u001b[0;32mimport\u001b[0m \u001b[0mfirebase\u001b[0m\u001b[0;34m\u001b[0m\u001b[0;34m\u001b[0m\u001b[0m\n\u001b[0m\u001b[1;32m      2\u001b[0m \u001b[0mFBconn\u001b[0m \u001b[0;34m=\u001b[0m \u001b[0mfirebase\u001b[0m\u001b[0;34m.\u001b[0m\u001b[0mFirebaseApplication\u001b[0m\u001b[0;34m(\u001b[0m\u001b[0;34m'https://tirgul5-719ec-default-rtdb.europe-west1.firebasedatabase.app'\u001b[0m\u001b[0;34m,\u001b[0m\u001b[0;32mNone\u001b[0m\u001b[0;34m)\u001b[0m\u001b[0;34m\u001b[0m\u001b[0;34m\u001b[0m\u001b[0m\n\u001b[1;32m      3\u001b[0m \u001b[0;32mwhile\u001b[0m \u001b[0;32mTrue\u001b[0m\u001b[0;34m:\u001b[0m\u001b[0;34m\u001b[0m\u001b[0;34m\u001b[0m\u001b[0m\n\u001b[1;32m      4\u001b[0m   \u001b[0mtemperature\u001b[0m \u001b[0;34m=\u001b[0m \u001b[0mint\u001b[0m \u001b[0;34m(\u001b[0m\u001b[0minput\u001b[0m \u001b[0;34m(\u001b[0m\u001b[0;34m\"what is the temperature? \"\u001b[0m\u001b[0;34m)\u001b[0m\u001b[0;34m)\u001b[0m\u001b[0;34m\u001b[0m\u001b[0;34m\u001b[0m\u001b[0m\n\u001b[1;32m      5\u001b[0m \u001b[0;34m\u001b[0m\u001b[0m\n",
            "\u001b[0;31mModuleNotFoundError\u001b[0m: No module named 'firebase'",
            "",
            "\u001b[0;31m---------------------------------------------------------------------------\u001b[0;32m\nNOTE: If your import is failing due to a missing package, you can\nmanually install dependencies using either !pip or !apt.\n\nTo view examples of installing some common dependencies, click the\n\"Open Examples\" button below.\n\u001b[0;31m---------------------------------------------------------------------------\u001b[0m\n"
          ],
          "errorDetails": {
            "actions": [
              {
                "action": "open_url",
                "actionText": "Open Examples",
                "url": "/notebooks/snippets/importing_libraries.ipynb"
              }
            ]
          }
        }
      ]
    },
    {
      "cell_type": "code",
      "source": [
        "#firebase = firebase.FirebaseApplication('https://tirgul5-719ec-default-rtdb.europe-west1.firebasedatabase.app', None)\n",
        "result = FBconn.get('/myTest1', None)\n",
        "print(result)\n"
      ],
      "metadata": {
        "colab": {
          "base_uri": "https://localhost:8080/"
        },
        "id": "On-e5AU7VxM1",
        "outputId": "4f93b27f-d8e2-4eff-b16a-da451aca3808"
      },
      "execution_count": null,
      "outputs": [
        {
          "output_type": "stream",
          "name": "stdout",
          "text": [
            "{'-NqMMcFK7Fmdv_3LzQqI': {'Temp': 56}, '-NqMMeIVjixHHRmESoQ0': {'Temp': 23}, '-NqMMf06w45KzOtb-oiG': {'Temp': 22}, '-NqMMfVQFIol5NpU_XK5': {'Temp': 23}}\n"
          ]
        }
      ]
    },
    {
      "cell_type": "code",
      "source": [
        "import json\n",
        "res=FBconn.get('/myTest1/',None)\n",
        "\n",
        "for key in res:\n",
        "    print(key+\":\\t\", res[key])\n"
      ],
      "metadata": {
        "id": "DUHpaJftXy0o",
        "outputId": "9bae8022-b219-4048-df57-9424d9ccf319",
        "colab": {
          "base_uri": "https://localhost:8080/",
          "height": 245
        }
      },
      "execution_count": null,
      "outputs": [
        {
          "output_type": "error",
          "ename": "NameError",
          "evalue": "name 'FBconn' is not defined",
          "traceback": [
            "\u001b[0;31m---------------------------------------------------------------------------\u001b[0m",
            "\u001b[0;31mNameError\u001b[0m                                 Traceback (most recent call last)",
            "\u001b[0;32m<ipython-input-1-43a158610b00>\u001b[0m in \u001b[0;36m<cell line: 2>\u001b[0;34m()\u001b[0m\n\u001b[1;32m      1\u001b[0m \u001b[0;32mimport\u001b[0m \u001b[0mjson\u001b[0m\u001b[0;34m\u001b[0m\u001b[0;34m\u001b[0m\u001b[0m\n\u001b[0;32m----> 2\u001b[0;31m \u001b[0mres\u001b[0m\u001b[0;34m=\u001b[0m\u001b[0mFBconn\u001b[0m\u001b[0;34m.\u001b[0m\u001b[0mget\u001b[0m\u001b[0;34m(\u001b[0m\u001b[0;34m'/myTest1/'\u001b[0m\u001b[0;34m,\u001b[0m\u001b[0;32mNone\u001b[0m\u001b[0;34m)\u001b[0m\u001b[0;34m\u001b[0m\u001b[0;34m\u001b[0m\u001b[0m\n\u001b[0m\u001b[1;32m      3\u001b[0m \u001b[0;34m\u001b[0m\u001b[0m\n\u001b[1;32m      4\u001b[0m \u001b[0;32mfor\u001b[0m \u001b[0mkey\u001b[0m \u001b[0;32min\u001b[0m \u001b[0mres\u001b[0m\u001b[0;34m:\u001b[0m\u001b[0;34m\u001b[0m\u001b[0;34m\u001b[0m\u001b[0m\n\u001b[1;32m      5\u001b[0m     \u001b[0mprint\u001b[0m\u001b[0;34m(\u001b[0m\u001b[0mkey\u001b[0m\u001b[0;34m+\u001b[0m\u001b[0;34m\":\\t\"\u001b[0m\u001b[0;34m,\u001b[0m \u001b[0mres\u001b[0m\u001b[0;34m[\u001b[0m\u001b[0mkey\u001b[0m\u001b[0;34m]\u001b[0m\u001b[0;34m)\u001b[0m\u001b[0;34m\u001b[0m\u001b[0;34m\u001b[0m\u001b[0m\n",
            "\u001b[0;31mNameError\u001b[0m: name 'FBconn' is not defined"
          ]
        }
      ]
    },
    {
      "cell_type": "markdown",
      "source": [
        "Assaignment from here"
      ],
      "metadata": {
        "id": "p7yuLYzda0q4"
      }
    },
    {
      "cell_type": "code",
      "source": [
        "search_words = ['AWS', 'Cloud Computing', 'EC2', 'S3', 'Lambda', 'IAM', 'VPC', 'RDS', 'Route', 'CloudFormation']\n",
        "dict_to_upload={}\n",
        "dict_AWS = [\"https://docs.aws.amazon.com/iot/latest/developerguide/what-is-aws-iot.html\",\n",
        "            \"https://docs.aws.amazon.com/general/latest/gr/Welcome.html\",\n",
        "            \"https://docs.aws.amazon.com/cli/latest/userguide/cli-chap-welcome.html\"]\n",
        "\n",
        "dict_to_upload[\"AWS\"] = dict_AWS\n",
        "\n",
        "dict_CloudComputing=[\"https://docs.aws.amazon.com/whitepapers/latest/aws-overview/what-is-cloud-computing.html\",\n",
        "                     \"https://docs.aws.amazon.com/whitepapers/latest/aws-overview/compute-services.html\",\n",
        "                     \"https://docs.aws.amazon.com/AWSEC2/latest/WindowsGuide/concepts.html\"]\n",
        "\n",
        "dict_to_upload[\"Cloud Computing\"]= dict_CloudComputing\n",
        "\n",
        "dict_EC2 = [\"https://docs.aws.amazon.com/ec2/\",\n",
        "            \"https://docs.aws.amazon.com/AWSEC2/latest/UserGuide/\",\n",
        "            \"https://docs.aws.amazon.com/AWSEC2/latest/APIReference/\"]\n",
        "dict_to_upload[\"EC2\"] = dict_EC2\n",
        "\n",
        "dict_S3 = [\"https://docs.aws.amazon.com/s3/\",\n",
        "           \"https://docs.aws.amazon.com/AmazonS3/latest/userguide/\",\n",
        "           \"https://docs.aws.amazon.com/AmazonS3/latest/API/\"]\n",
        "dict_to_upload[\"S3\"] = dict_S3\n",
        "\n",
        "dict_Lambda = [\"https://docs.aws.amazon.com/lambda/\",\n",
        "               \"https://docs.aws.amazon.com/lambda/latest/dg/API_Reference.html\",\n",
        "               \"https://docs.aws.amazon.com/cli/latest/reference/lambda/\"]\n",
        "dict_to_upload[\"Lambda\"] = dict_Lambda\n",
        "\n",
        "dict_IAM = [\"https://docs.aws.amazon.com/iam/\",\n",
        "            \"https://docs.aws.amazon.com/IAM/latest/UserGuide/\",\n",
        "            \"https://docs.aws.amazon.com/IAM/latest/APIReference/\"]\n",
        "dict_to_upload[\"IAM\"] = dict_IAM\n",
        "\n",
        "dict_VPC = [\"https://docs.aws.amazon.com/vpc/\",\n",
        "            \"https://docs.aws.amazon.com/vpc/latest/userguide/\",\n",
        "            \"https://docs.aws.amazon.com/cli/latest/reference/ec2/create-vpc.html\"]\n",
        "dict_to_upload[\"VPC\"] = dict_VPC\n",
        "\n",
        "dict_RDS = [\"https://docs.aws.amazon.com/rds/\",\n",
        "            \"https://docs.aws.amazon.com/AmazonRDS/latest/UserGuide/\",\n",
        "            \"https://docs.aws.amazon.com/AmazonRDS/latest/APIReference/\"]\n",
        "dict_to_upload[\"RDS\"] = dict_RDS\n",
        "\n",
        "dict_Route = [\"https://docs.aws.amazon.com/Route53/latest/DeveloperGuide/Welcome.html\",\n",
        "              \"https://docs.aws.amazon.com/Route53/latest/DeveloperGuide/route-53-concepts.html\",\n",
        "              \"https://docs.aws.amazon.com/AWSEC2/latest/APIReference/API_Route.html\"]\n",
        "dict_to_upload[\"Route\"] = dict_Route\n",
        "\n",
        "dict_CloudFormation = [\"https://docs.aws.amazon.com/cloudformation/\",\n",
        "                       \"https://docs.aws.amazon.com/AWSCloudFormation/latest/UserGuide/\",\n",
        "                       \"https://docs.aws.amazon.com/AWSCloudFormation/latest/APIReference/\"]\n",
        "dict_to_upload[\"CloudFormation\"] = dict_CloudFormation\n",
        "\n",
        "\n",
        "result = FBconn.post('/index/',dict_to_upload)"
      ],
      "metadata": {
        "id": "GosiiSLrdTp8"
      },
      "execution_count": 20,
      "outputs": []
    },
    {
      "cell_type": "code",
      "source": [],
      "metadata": {
        "id": "TOOCEMQ2hvpa"
      },
      "execution_count": null,
      "outputs": []
    },
    {
      "cell_type": "code",
      "source": [],
      "metadata": {
        "id": "HX0VUjGfhtT8"
      },
      "execution_count": null,
      "outputs": []
    }
  ]
}