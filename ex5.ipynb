{
  "nbformat": 4,
  "nbformat_minor": 0,
  "metadata": {
    "colab": {
      "provenance": [],
      "include_colab_link": true
    },
    "kernelspec": {
      "name": "python3",
      "display_name": "Python 3"
    },
    "language_info": {
      "name": "python"
    }
  },
  "cells": [
    {
      "cell_type": "markdown",
      "metadata": {
        "id": "view-in-github",
        "colab_type": "text"
      },
      "source": [
        "<a href=\"https://colab.research.google.com/github/SecretPasta/Llama_Cloud/blob/main/ex5.ipynb\" target=\"_parent\"><img src=\"https://colab.research.google.com/assets/colab-badge.svg\" alt=\"Open In Colab\"/></a>"
      ]
    },
    {
      "cell_type": "code",
      "execution_count": 1,
      "metadata": {
        "colab": {
          "base_uri": "https://localhost:8080/"
        },
        "id": "4N810ZslU-pI",
        "outputId": "ec8038af-aab2-4b9b-a3b1-e69b2dd1dc89"
      },
      "outputs": [
        {
          "output_type": "stream",
          "name": "stdout",
          "text": [
            "Collecting firebase\n",
            "  Downloading firebase-4.0.1-py3-none-any.whl (12 kB)\n",
            "Requirement already satisfied: requests in /usr/local/lib/python3.10/dist-packages (from firebase) (2.31.0)\n",
            "Requirement already satisfied: charset-normalizer<4,>=2 in /usr/local/lib/python3.10/dist-packages (from requests->firebase) (3.3.2)\n",
            "Requirement already satisfied: idna<4,>=2.5 in /usr/local/lib/python3.10/dist-packages (from requests->firebase) (3.6)\n",
            "Requirement already satisfied: urllib3<3,>=1.21.1 in /usr/local/lib/python3.10/dist-packages (from requests->firebase) (2.0.7)\n",
            "Requirement already satisfied: certifi>=2017.4.17 in /usr/local/lib/python3.10/dist-packages (from requests->firebase) (2024.2.2)\n",
            "Installing collected packages: firebase\n",
            "Successfully installed firebase-4.0.1\n"
          ]
        }
      ],
      "source": [
        "!pip install firebase"
      ]
    },
    {
      "cell_type": "code",
      "source": [
        "from firebase import firebase\n",
        "FBconn = firebase.FirebaseApplication('https://tirgul5-719ec-default-rtdb.europe-west1.firebasedatabase.app',None)\n",
        "while True:\n",
        "  temperature = int (input (\"what is the temperature? \"))\n",
        "\n",
        "  data_to_upload = {\n",
        "      'Temp' : temperature\n",
        "  }\n",
        "  if temperature == 0:\n",
        "    break\n",
        "  result = FBconn.post('/myTest1/',data_to_upload)\n",
        "  print(result)\n"
      ],
      "metadata": {
        "colab": {
          "base_uri": "https://localhost:8080/"
        },
        "id": "HeiSVTL0VcJ3",
        "outputId": "d0436641-6783-455a-a365-4be38572cf4f"
      },
      "execution_count": 2,
      "outputs": [
        {
          "name": "stdout",
          "output_type": "stream",
          "text": [
            "what is the temperature? 23\n",
            "{'name': '-NqvMSViJAfs4ec1Ieig'}\n",
            "what is the temperature? 0\n"
          ]
        }
      ]
    },
    {
      "cell_type": "code",
      "source": [
        "#firebase = firebase.FirebaseApplication('https://tirgul5-719ec-default-rtdb.europe-west1.firebasedatabase.app', None)\n",
        "result = FBconn.get('/myTest1', None)\n",
        "print(result)\n"
      ],
      "metadata": {
        "colab": {
          "base_uri": "https://localhost:8080/"
        },
        "id": "On-e5AU7VxM1",
        "outputId": "58b16610-2058-4efb-c6a6-43f137ef7e7e"
      },
      "execution_count": 3,
      "outputs": [
        {
          "output_type": "stream",
          "name": "stdout",
          "text": [
            "{'-NqMMcFK7Fmdv_3LzQqI': {'Temp': 56}, '-NqMMeIVjixHHRmESoQ0': {'Temp': 23}, '-NqMMf06w45KzOtb-oiG': {'Temp': 22}, '-NqMMfVQFIol5NpU_XK5': {'Temp': 23}, '-NqMOQRgBYfhImvRZV68': {'Temp': 23}, '-NqMORHj0nMV9UonUxG2': {'Temp': 44}, '-NqMOS23bJfdzfdqmC9m': {'Temp': 455}, '-NqMOSi62VTDfUO_ZC-l': {'Temp': 66}, '-NqMOgXvZ0Jxtr1qddCK': {'Temp': 455}, '-NqMOhNwLQvZCZRo2-JK': {'Temp': 44}, '-NqMOiQt29HXFqLQJou9': {'Temp': 23}, '-NqMP001FOm82mu32HJn': {'Temp': 455}, '-NqMU0jgy2hWjZcXrs86': {'Temp': 455}, '-NqMU1dZicisBE1Op2nO': {'Temp': 66}, '-NqvMSViJAfs4ec1Ieig': {'Temp': 23}}\n"
          ]
        }
      ]
    },
    {
      "cell_type": "code",
      "source": [
        "import json\n",
        "res=FBconn.get('/myTest1/',None)\n",
        "\n",
        "for key in res:\n",
        "    print(key+\":\\t\", res[key])\n"
      ],
      "metadata": {
        "id": "DUHpaJftXy0o",
        "outputId": "a373ee2e-497a-455c-aafc-4f8e42372350",
        "colab": {
          "base_uri": "https://localhost:8080/"
        }
      },
      "execution_count": 4,
      "outputs": [
        {
          "output_type": "stream",
          "name": "stdout",
          "text": [
            "-NqMMcFK7Fmdv_3LzQqI:\t {'Temp': 56}\n",
            "-NqMMeIVjixHHRmESoQ0:\t {'Temp': 23}\n",
            "-NqMMf06w45KzOtb-oiG:\t {'Temp': 22}\n",
            "-NqMMfVQFIol5NpU_XK5:\t {'Temp': 23}\n",
            "-NqMOQRgBYfhImvRZV68:\t {'Temp': 23}\n",
            "-NqMORHj0nMV9UonUxG2:\t {'Temp': 44}\n",
            "-NqMOS23bJfdzfdqmC9m:\t {'Temp': 455}\n",
            "-NqMOSi62VTDfUO_ZC-l:\t {'Temp': 66}\n",
            "-NqMOgXvZ0Jxtr1qddCK:\t {'Temp': 455}\n",
            "-NqMOhNwLQvZCZRo2-JK:\t {'Temp': 44}\n",
            "-NqMOiQt29HXFqLQJou9:\t {'Temp': 23}\n",
            "-NqMP001FOm82mu32HJn:\t {'Temp': 455}\n",
            "-NqMU0jgy2hWjZcXrs86:\t {'Temp': 455}\n",
            "-NqMU1dZicisBE1Op2nO:\t {'Temp': 66}\n",
            "-NqvMSViJAfs4ec1Ieig:\t {'Temp': 23}\n"
          ]
        }
      ]
    },
    {
      "cell_type": "markdown",
      "source": [
        "Assaignment from here"
      ],
      "metadata": {
        "id": "p7yuLYzda0q4"
      }
    },
    {
      "cell_type": "code",
      "source": [
        "search_words = ['AWS', 'Cloud Computing', 'EC2', 'S3', 'Lambda', 'IAM', 'VPC', 'RDS', 'Route', 'CloudFormation']\n",
        "dict_to_upload={}\n",
        "dict_AWS = [\"https://docs.aws.amazon.com/iot/latest/developerguide/what-is-aws-iot.html\",\n",
        "            \"https://docs.aws.amazon.com/general/latest/gr/Welcome.html\",\n",
        "            \"https://docs.aws.amazon.com/cli/latest/userguide/cli-chap-welcome.html\"]\n",
        "\n",
        "dict_to_upload[\"AWS\"] = dict_AWS\n",
        "\n",
        "dict_CloudComputing=[\"https://docs.aws.amazon.com/whitepapers/latest/aws-overview/what-is-cloud-computing.html\",\n",
        "                     \"https://docs.aws.amazon.com/whitepapers/latest/aws-overview/compute-services.html\",\n",
        "                     \"https://docs.aws.amazon.com/AWSEC2/latest/WindowsGuide/concepts.html\"]\n",
        "\n",
        "dict_to_upload[\"Cloud Computing\"]= dict_CloudComputing\n",
        "\n",
        "dict_EC2 = [\"https://docs.aws.amazon.com/ec2/\",\n",
        "            \"https://docs.aws.amazon.com/AWSEC2/latest/UserGuide/\",\n",
        "            \"https://docs.aws.amazon.com/AWSEC2/latest/APIReference/\"]\n",
        "dict_to_upload[\"EC2\"] = dict_EC2\n",
        "\n",
        "dict_S3 = [\"https://docs.aws.amazon.com/s3/\",\n",
        "           \"https://docs.aws.amazon.com/AmazonS3/latest/userguide/\",\n",
        "           \"https://docs.aws.amazon.com/AmazonS3/latest/API/\"]\n",
        "dict_to_upload[\"S3\"] = dict_S3\n",
        "\n",
        "dict_Lambda = [\"https://docs.aws.amazon.com/lambda/\",\n",
        "               \"https://docs.aws.amazon.com/lambda/latest/dg/API_Reference.html\",\n",
        "               \"https://docs.aws.amazon.com/cli/latest/reference/lambda/\"]\n",
        "dict_to_upload[\"Lambda\"] = dict_Lambda\n",
        "\n",
        "dict_IAM = [\"https://docs.aws.amazon.com/iam/\",\n",
        "            \"https://docs.aws.amazon.com/IAM/latest/UserGuide/\",\n",
        "            \"https://docs.aws.amazon.com/IAM/latest/APIReference/\"]\n",
        "dict_to_upload[\"IAM\"] = dict_IAM\n",
        "\n",
        "dict_VPC = [\"https://docs.aws.amazon.com/vpc/\",\n",
        "            \"https://docs.aws.amazon.com/vpc/latest/userguide/\",\n",
        "            \"https://docs.aws.amazon.com/cli/latest/reference/ec2/create-vpc.html\"]\n",
        "dict_to_upload[\"VPC\"] = dict_VPC\n",
        "\n",
        "dict_RDS = [\"https://docs.aws.amazon.com/rds/\",\n",
        "            \"https://docs.aws.amazon.com/AmazonRDS/latest/UserGuide/\",\n",
        "            \"https://docs.aws.amazon.com/AmazonRDS/latest/APIReference/\"]\n",
        "dict_to_upload[\"RDS\"] = dict_RDS\n",
        "\n",
        "dict_Route = [\"https://docs.aws.amazon.com/Route53/latest/DeveloperGuide/Welcome.html\",\n",
        "              \"https://docs.aws.amazon.com/Route53/latest/DeveloperGuide/route-53-concepts.html\",\n",
        "              \"https://docs.aws.amazon.com/AWSEC2/latest/APIReference/API_Route.html\"]\n",
        "dict_to_upload[\"Route\"] = dict_Route\n",
        "\n",
        "dict_CloudFormation = [\"https://docs.aws.amazon.com/cloudformation/\",\n",
        "                       \"https://docs.aws.amazon.com/AWSCloudFormation/latest/UserGuide/\",\n",
        "                       \"https://docs.aws.amazon.com/AWSCloudFormation/latest/APIReference/\"]\n",
        "dict_to_upload[\"CloudFormation\"] = dict_CloudFormation\n",
        "\n",
        "\n",
        "result = FBconn.post('/index/',dict_to_upload)"
      ],
      "metadata": {
        "id": "GosiiSLrdTp8"
      },
      "execution_count": 5,
      "outputs": []
    },
    {
      "cell_type": "code",
      "source": [
        "!pip install requests beautifulsoup4"
      ],
      "metadata": {
        "id": "TOOCEMQ2hvpa",
        "colab": {
          "base_uri": "https://localhost:8080/"
        },
        "outputId": "170d9ce6-aadb-40ee-9880-a44efea19de9"
      },
      "execution_count": 6,
      "outputs": [
        {
          "output_type": "stream",
          "name": "stdout",
          "text": [
            "Requirement already satisfied: requests in /usr/local/lib/python3.10/dist-packages (2.31.0)\n",
            "Requirement already satisfied: beautifulsoup4 in /usr/local/lib/python3.10/dist-packages (4.12.3)\n",
            "Requirement already satisfied: charset-normalizer<4,>=2 in /usr/local/lib/python3.10/dist-packages (from requests) (3.3.2)\n",
            "Requirement already satisfied: idna<4,>=2.5 in /usr/local/lib/python3.10/dist-packages (from requests) (3.6)\n",
            "Requirement already satisfied: urllib3<3,>=1.21.1 in /usr/local/lib/python3.10/dist-packages (from requests) (2.0.7)\n",
            "Requirement already satisfied: certifi>=2017.4.17 in /usr/local/lib/python3.10/dist-packages (from requests) (2024.2.2)\n",
            "Requirement already satisfied: soupsieve>1.2 in /usr/local/lib/python3.10/dist-packages (from beautifulsoup4) (2.5)\n"
          ]
        }
      ]
    },
    {
      "cell_type": "code",
      "source": [
        "import requests\n",
        "from bs4 import BeautifulSoup\n",
        "\n",
        "def fetch_page(url):\n",
        "  response = requests.get(url)\n",
        "  if response.status_code == 200:\n",
        "    soup = BeautifulSoup(response.text, 'html.parser')\n",
        "    return soup\n",
        "  else:\n",
        "    return None\n"
      ],
      "metadata": {
        "id": "HX0VUjGfhtT8"
      },
      "execution_count": 24,
      "outputs": []
    },
    {
      "cell_type": "code",
      "source": [
        "import re\n",
        "\n",
        "def index_words(soup):\n",
        "    index = {}\n",
        "    words = re.findall(r'\\w+', soup.get_text())\n",
        "    for word in words:\n",
        "        word = word.lower()\n",
        "        if word in index:\n",
        "          index[word] += 1\n",
        "        else:\n",
        "          index[word] = 1\n",
        "    return index\n"
      ],
      "metadata": {
        "id": "QmJIUaErXnJc"
      },
      "execution_count": 12,
      "outputs": []
    },
    {
      "cell_type": "code",
      "source": [
        "def remove_stop_words(index):\n",
        "  stop_words = {'a', 'an', 'the', 'and', 'or','in', 'on', 'at'}\n",
        "  for stop_word in stop_words:\n",
        "    if stop_word in index:\n",
        "      del index[stop_word]\n",
        "  return index\n"
      ],
      "metadata": {
        "id": "5fqeg0K4YmOT"
      },
      "execution_count": 13,
      "outputs": []
    },
    {
      "cell_type": "code",
      "source": [
        "from nltk.stem import PorterStemmer\n",
        "\n",
        "def apply_stemming(index):\n",
        "  stemmer = PorterStemmer()\n",
        "  stemmed_index = {}\n",
        "  for word, count in index.items():\n",
        "    stemmed_word = stemmer.stem(word)\n",
        "    if stemmed_word in stemmed_index:\n",
        "      stemmed_index[stemmed_word] += count\n",
        "    else:\n",
        "      stemmed_index[stemmed_word] = count\n",
        "  return stemmed_index\n"
      ],
      "metadata": {
        "id": "Xmk3UpbNY9Nb"
      },
      "execution_count": 14,
      "outputs": []
    },
    {
      "cell_type": "code",
      "source": [
        "def search(query, index):\n",
        "  stemmer = PorterStemmer()\n",
        "  query_words = re.findall(r'\\w+', query.lower())\n",
        "  results = {}\n",
        "  for word in query_words:\n",
        "    word = stemmer.stem(word)\n",
        "    if word in index:\n",
        "      results[word] = index[word]\n",
        "  return results\n",
        "\n"
      ],
      "metadata": {
        "id": "y7VZEX6MZPgj"
      },
      "execution_count": 26,
      "outputs": []
    },
    {
      "cell_type": "code",
      "source": [
        "def search_engine(url, query):\n",
        "  soup = fetch_page(url)\n",
        "  if soup is None:\n",
        "    return None\n",
        "  index = index_words(soup)\n",
        "  index = remove_stop_words(index)\n",
        "  index = apply_stemming(index)\n",
        "  results = search(query, index)\n",
        "  return results\n",
        "\n"
      ],
      "metadata": {
        "id": "_3Uv8Tq8ZeIX"
      },
      "execution_count": 27,
      "outputs": []
    },
    {
      "cell_type": "code",
      "source": [
        "url = 'https://en.wikipedia.org/wiki/Bird'\n",
        "query = 'bird wings'\n",
        "results = search_engine(url, query)\n",
        "print(results)\n",
        "\n",
        "rank=1\n",
        "for word, count in results.items():\n",
        "  rank = rank*1/count\n",
        "rank = 1-rank\n",
        "print(rank)\n"
      ],
      "metadata": {
        "colab": {
          "base_uri": "https://localhost:8080/"
        },
        "id": "JRnaZpUIZuf9",
        "outputId": "9c44eaa8-fa28-4d8c-b2c6-b25628efc0fd"
      },
      "execution_count": 30,
      "outputs": [
        {
          "output_type": "stream",
          "name": "stdout",
          "text": [
            "{'bird': 556, 'wing': 25}\n",
            "0.9999280575539569\n"
          ]
        }
      ]
    },
    {
      "cell_type": "code",
      "source": [],
      "metadata": {
        "id": "U_9zfHGuZz4c"
      },
      "execution_count": null,
      "outputs": []
    }
  ]
}