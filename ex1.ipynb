{
  "cells": [
    {
      "cell_type": "markdown",
      "metadata": {
        "id": "view-in-github",
        "colab_type": "text"
      },
      "source": [
        "<a href=\"https://colab.research.google.com/github/SecretPasta/Llama_Cloud/blob/main/ex1.ipynb\" target=\"_parent\"><img src=\"https://colab.research.google.com/assets/colab-badge.svg\" alt=\"Open In Colab\"/></a>"
      ]
    },
    {
      "cell_type": "code",
      "execution_count": 37,
      "metadata": {
        "id": "-QgZ8kAwm-p8"
      },
      "outputs": [],
      "source": [
        "import IPython\n",
        "from IPython.core.display import display_html\n",
        "from typing import Text\n",
        "from ipywidgets import widgets, Box\n",
        "from IPython.display import HTML\n",
        "from google.colab.output import _publish as publish\n",
        "from google.colab import drive\n",
        "import re\n"
      ]
    },
    {
      "cell_type": "code",
      "execution_count": 38,
      "metadata": {
        "colab": {
          "base_uri": "https://localhost:8080/"
        },
        "id": "m625g_dcoSwP",
        "outputId": "f7c5b2fd-ef21-470f-a5a3-af16049d2aeb"
      },
      "outputs": [
        {
          "output_type": "stream",
          "name": "stdout",
          "text": [
            "Drive already mounted at /content/drive; to attempt to forcibly remount, call drive.mount(\"/content/drive\", force_remount=True).\n"
          ]
        }
      ],
      "source": [
        "drive.mount('/content/drive')"
      ]
    },
    {
      "cell_type": "code",
      "execution_count": 39,
      "metadata": {
        "colab": {
          "base_uri": "https://localhost:8080/"
        },
        "id": "qBQI8L8znBpv",
        "outputId": "7d2a8171-580b-4c81-f199-a08e87c49b3b"
      },
      "outputs": [
        {
          "output_type": "stream",
          "name": "stdout",
          "text": [
            "dog-breed-identification.ipynb\tex1.ipynb  students.txt  Untitled0.ipynb\n"
          ]
        }
      ],
      "source": [
        "!ls \"/content/drive/My Drive/Colab Notebooks\""
      ]
    },
    {
      "cell_type": "code",
      "execution_count": 40,
      "metadata": {
        "colab": {
          "base_uri": "https://localhost:8080/"
        },
        "id": "988GCM_BqdXw",
        "outputId": "f9530f46-cf22-4580-dfd7-6aa0a116aab7"
      },
      "outputs": [
        {
          "output_type": "stream",
          "name": "stdout",
          "text": [
            "/content/drive/MyDrive/Colab Notebooks\n"
          ]
        }
      ],
      "source": [
        "cd /content/drive/MyDrive/Colab Notebooks"
      ]
    },
    {
      "cell_type": "code",
      "execution_count": 41,
      "metadata": {
        "id": "kvNOInBxpEnW"
      },
      "outputs": [],
      "source": [
        "def student_data(student):\n",
        "  pattern = re.compile(r'(?P<name>[\\w\\s]+) (?P<email>[\\w.-]+@[\\w.-]+) (?P<courses>[\\w\\s,]+) (?P<link>https?://[\\w./]+)')\n",
        "  matches = pattern.finditer(student)\n",
        "  student_details={}\n",
        "  for match in matches:\n",
        "    student_details = match.groupdict()\n",
        "  return student_details\n"
      ]
    },
    {
      "cell_type": "code",
      "execution_count": 42,
      "metadata": {
        "id": "jTDwQECdwTQA"
      },
      "outputs": [],
      "source": [
        "with open('students.txt', \"r\") as file:\n",
        "  content = file.readlines()\n",
        "  students = [student[:-1]  for student in content if student != \"\\n\"]\n",
        "\n",
        "students_dict = {}\n",
        "for student in students:\n",
        "  data = student_data(student)\n",
        "  student_key = data[\"name\"]\n",
        "  del data[\"name\"]\n",
        "  students_dict[student_key] = data\n"
      ]
    },
    {
      "cell_type": "code",
      "execution_count": 43,
      "metadata": {
        "id": "SIQT3BRlbz2S"
      },
      "outputs": [],
      "source": [
        "def on_change(change):\n",
        "    if change['type'] == 'change' and change['name'] == 'value':\n",
        "        email.value=students_dict[change[\"new\"]][\"email\"]\n",
        "        courses.value=students_dict[change[\"new\"]][\"courses\"]\n",
        "        link.value=students_dict[change[\"new\"]][\"link\"]"
      ]
    },
    {
      "cell_type": "code",
      "execution_count": 44,
      "metadata": {
        "id": "ySkqllHtb4xK"
      },
      "outputs": [],
      "source": [
        "def on_button_clicked(b):\n",
        "    with output:\n",
        "        print(\"Saved in 'students.txt'.\")\n",
        "        line=w.value + \" \" + email.value + \" \" + courses.value + \" \" + link.value + \" \" + movie.value + \"\\n\"\n",
        "        #print(line)\n",
        "\n",
        "    with open(\"students.txt\", \"a\") as file:\n",
        "      file.write(line)"
      ]
    },
    {
      "cell_type": "code",
      "execution_count": 45,
      "metadata": {
        "colab": {
          "base_uri": "https://localhost:8080/",
          "height": 237,
          "referenced_widgets": [
            "bc422164062d4355a2919de033dfe68c",
            "c6f4f9148a85467fb7a2ec0134eab435",
            "c2e5e2a970fe41d2b908372b2264c9eb",
            "88a4a1c84a004c83b339a3c9d52f9f0b",
            "da1ce713a4b44a56a6cc6a3397178f1a",
            "eabce078be11475c890dacb5fbc54cae",
            "b2e2d794dbaf4aaf8a550c58aa1a0f38",
            "ecc001db68254f1bb944edce2ca0c27a",
            "896dd9cedfa24295a96e9f7b7d9f5689",
            "7ebcbac71471468696aeb0d21c646d04",
            "abc2aaafe89645268698579db4ecb08b",
            "6d1c6e997a874b0ba5ccf5459c443276",
            "34dceb3e972344f9ac2b2802041c36b5",
            "e85666e11c6e462c826d9586ac417512",
            "43d3b5ae48e4408e8845546fbc27a407",
            "c5e77ce1c5f545d280f7ee2db9206651",
            "2bf55d3592414a809b3cde7805c0041e",
            "2a462901bd7647738fde5210fb39b51a"
          ]
        },
        "id": "1l7zKQeovpkX",
        "outputId": "403677d9-5d60-4e0c-9fdf-9f03dbc471a1"
      },
      "outputs": [
        {
          "output_type": "display_data",
          "data": {
            "text/plain": [
              "VBox(children=(Dropdown(description='Student:', layout=Layout(height='30px', width='500px'), options=('Ilya Vo…"
            ],
            "application/vnd.jupyter.widget-view+json": {
              "version_major": 2,
              "version_minor": 0,
              "model_id": "bc422164062d4355a2919de033dfe68c"
            }
          },
          "metadata": {}
        }
      ],
      "source": [
        "layout = widgets.Layout(width='500px', height='30px')\n",
        "w = widgets.Dropdown(\n",
        "    options=list(students_dict.keys()),\n",
        "    value= None,\n",
        "    description='Student:',\n",
        "    layout=layout\n",
        ")\n",
        "email=widgets.Text(value='', description=\"Email:\", layout = layout)\n",
        "courses=widgets.Text(value='', description=\"Courses:\", layout = layout)\n",
        "link=widgets.Text(value='', description=\"Link:\", layout = layout)\n",
        "movie=widgets.Textarea(\n",
        "    value='',\n",
        "    placeholder='Write here your favourite movie...',\n",
        "    description='Movie:',\n",
        "    layout=layout\n",
        ")\n",
        "button = widgets.Button(\n",
        "    description='Submit',\n",
        "    button_style='success',\n",
        "    icon='check',\n",
        "    layout=widgets.Layout(width='300px', height='30px', justify_content=\"flex-end\", margin=\"10px\")\n",
        ")\n",
        "output = widgets.Output()\n",
        "\n",
        "button.on_click(on_button_clicked)\n",
        "\n",
        "w.observe(on_change)\n",
        "\n",
        "form = widgets.VBox([w, email, courses, link, movie, button, output], layout=widgets.Layout(display=\"flex\", justify_content=\"flex-start\", align_items=\"center\"))\n",
        "\n",
        "display(form)\n",
        "\n",
        "\n"
      ]
    },
    {
      "cell_type": "code",
      "execution_count": 45,
      "metadata": {
        "id": "RFURPGt2u4ro"
      },
      "outputs": [],
      "source": []
    }
  ],
  "metadata": {
    "colab": {
      "provenance": [],
      "include_colab_link": true
    },
    "kernelspec": {
      "display_name": "Python 3",
      "name": "python3"
    },
    "language_info": {
      "name": "python"
    },
    "widgets": {
      "application/vnd.jupyter.widget-state+json": {
        "bc422164062d4355a2919de033dfe68c": {
          "model_module": "@jupyter-widgets/controls",
          "model_name": "VBoxModel",
          "model_module_version": "1.5.0",
          "state": {
            "_dom_classes": [],
            "_model_module": "@jupyter-widgets/controls",
            "_model_module_version": "1.5.0",
            "_model_name": "VBoxModel",
            "_view_count": null,
            "_view_module": "@jupyter-widgets/controls",
            "_view_module_version": "1.5.0",
            "_view_name": "VBoxView",
            "box_style": "",
            "children": [
              "IPY_MODEL_c6f4f9148a85467fb7a2ec0134eab435",
              "IPY_MODEL_c2e5e2a970fe41d2b908372b2264c9eb",
              "IPY_MODEL_88a4a1c84a004c83b339a3c9d52f9f0b",
              "IPY_MODEL_da1ce713a4b44a56a6cc6a3397178f1a",
              "IPY_MODEL_eabce078be11475c890dacb5fbc54cae",
              "IPY_MODEL_b2e2d794dbaf4aaf8a550c58aa1a0f38",
              "IPY_MODEL_ecc001db68254f1bb944edce2ca0c27a"
            ],
            "layout": "IPY_MODEL_896dd9cedfa24295a96e9f7b7d9f5689"
          }
        },
        "c6f4f9148a85467fb7a2ec0134eab435": {
          "model_module": "@jupyter-widgets/controls",
          "model_name": "DropdownModel",
          "model_module_version": "1.5.0",
          "state": {
            "_dom_classes": [],
            "_model_module": "@jupyter-widgets/controls",
            "_model_module_version": "1.5.0",
            "_model_name": "DropdownModel",
            "_options_labels": [
              "Ilya Vorotyntsev",
              "Alex Pitkin",
              "Boris Shoostin",
              "Ofir Ofek",
              "Hagar Tibi",
              "Guy Edri"
            ],
            "_view_count": null,
            "_view_module": "@jupyter-widgets/controls",
            "_view_module_version": "1.5.0",
            "_view_name": "DropdownView",
            "description": "Student:",
            "description_tooltip": null,
            "disabled": false,
            "index": 0,
            "layout": "IPY_MODEL_7ebcbac71471468696aeb0d21c646d04",
            "style": "IPY_MODEL_abc2aaafe89645268698579db4ecb08b"
          }
        },
        "c2e5e2a970fe41d2b908372b2264c9eb": {
          "model_module": "@jupyter-widgets/controls",
          "model_name": "TextModel",
          "model_module_version": "1.5.0",
          "state": {
            "_dom_classes": [],
            "_model_module": "@jupyter-widgets/controls",
            "_model_module_version": "1.5.0",
            "_model_name": "TextModel",
            "_view_count": null,
            "_view_module": "@jupyter-widgets/controls",
            "_view_module_version": "1.5.0",
            "_view_name": "TextView",
            "continuous_update": true,
            "description": "Email:",
            "description_tooltip": null,
            "disabled": false,
            "layout": "IPY_MODEL_7ebcbac71471468696aeb0d21c646d04",
            "placeholder": "​",
            "style": "IPY_MODEL_6d1c6e997a874b0ba5ccf5459c443276",
            "value": "Ilya.Vorotyntsev@e.braude.ac.il"
          }
        },
        "88a4a1c84a004c83b339a3c9d52f9f0b": {
          "model_module": "@jupyter-widgets/controls",
          "model_name": "TextModel",
          "model_module_version": "1.5.0",
          "state": {
            "_dom_classes": [],
            "_model_module": "@jupyter-widgets/controls",
            "_model_module_version": "1.5.0",
            "_model_name": "TextModel",
            "_view_count": null,
            "_view_module": "@jupyter-widgets/controls",
            "_view_module_version": "1.5.0",
            "_view_name": "TextView",
            "continuous_update": true,
            "description": "Courses:",
            "description_tooltip": null,
            "disabled": false,
            "layout": "IPY_MODEL_7ebcbac71471468696aeb0d21c646d04",
            "placeholder": "​",
            "style": "IPY_MODEL_34dceb3e972344f9ac2b2802041c36b5",
            "value": "Cloud Computing, WEB Technologies, Compilation"
          }
        },
        "da1ce713a4b44a56a6cc6a3397178f1a": {
          "model_module": "@jupyter-widgets/controls",
          "model_name": "TextModel",
          "model_module_version": "1.5.0",
          "state": {
            "_dom_classes": [],
            "_model_module": "@jupyter-widgets/controls",
            "_model_module_version": "1.5.0",
            "_model_name": "TextModel",
            "_view_count": null,
            "_view_module": "@jupyter-widgets/controls",
            "_view_module_version": "1.5.0",
            "_view_name": "TextView",
            "continuous_update": true,
            "description": "Link:",
            "description_tooltip": null,
            "disabled": false,
            "layout": "IPY_MODEL_7ebcbac71471468696aeb0d21c646d04",
            "placeholder": "​",
            "style": "IPY_MODEL_e85666e11c6e462c826d9586ac417512",
            "value": "https://google.com"
          }
        },
        "eabce078be11475c890dacb5fbc54cae": {
          "model_module": "@jupyter-widgets/controls",
          "model_name": "TextareaModel",
          "model_module_version": "1.5.0",
          "state": {
            "_dom_classes": [],
            "_model_module": "@jupyter-widgets/controls",
            "_model_module_version": "1.5.0",
            "_model_name": "TextareaModel",
            "_view_count": null,
            "_view_module": "@jupyter-widgets/controls",
            "_view_module_version": "1.5.0",
            "_view_name": "TextareaView",
            "continuous_update": true,
            "description": "Movie:",
            "description_tooltip": null,
            "disabled": false,
            "layout": "IPY_MODEL_7ebcbac71471468696aeb0d21c646d04",
            "placeholder": "Write here your favourite movie...",
            "rows": null,
            "style": "IPY_MODEL_43d3b5ae48e4408e8845546fbc27a407",
            "value": ""
          }
        },
        "b2e2d794dbaf4aaf8a550c58aa1a0f38": {
          "model_module": "@jupyter-widgets/controls",
          "model_name": "ButtonModel",
          "model_module_version": "1.5.0",
          "state": {
            "_dom_classes": [],
            "_model_module": "@jupyter-widgets/controls",
            "_model_module_version": "1.5.0",
            "_model_name": "ButtonModel",
            "_view_count": null,
            "_view_module": "@jupyter-widgets/controls",
            "_view_module_version": "1.5.0",
            "_view_name": "ButtonView",
            "button_style": "success",
            "description": "Submit",
            "disabled": false,
            "icon": "check",
            "layout": "IPY_MODEL_c5e77ce1c5f545d280f7ee2db9206651",
            "style": "IPY_MODEL_2bf55d3592414a809b3cde7805c0041e",
            "tooltip": ""
          }
        },
        "ecc001db68254f1bb944edce2ca0c27a": {
          "model_module": "@jupyter-widgets/output",
          "model_name": "OutputModel",
          "model_module_version": "1.0.0",
          "state": {
            "_dom_classes": [],
            "_model_module": "@jupyter-widgets/output",
            "_model_module_version": "1.0.0",
            "_model_name": "OutputModel",
            "_view_count": null,
            "_view_module": "@jupyter-widgets/output",
            "_view_module_version": "1.0.0",
            "_view_name": "OutputView",
            "layout": "IPY_MODEL_2a462901bd7647738fde5210fb39b51a",
            "msg_id": "",
            "outputs": []
          }
        },
        "896dd9cedfa24295a96e9f7b7d9f5689": {
          "model_module": "@jupyter-widgets/base",
          "model_name": "LayoutModel",
          "model_module_version": "1.2.0",
          "state": {
            "_model_module": "@jupyter-widgets/base",
            "_model_module_version": "1.2.0",
            "_model_name": "LayoutModel",
            "_view_count": null,
            "_view_module": "@jupyter-widgets/base",
            "_view_module_version": "1.2.0",
            "_view_name": "LayoutView",
            "align_content": null,
            "align_items": "center",
            "align_self": null,
            "border": null,
            "bottom": null,
            "display": "flex",
            "flex": null,
            "flex_flow": null,
            "grid_area": null,
            "grid_auto_columns": null,
            "grid_auto_flow": null,
            "grid_auto_rows": null,
            "grid_column": null,
            "grid_gap": null,
            "grid_row": null,
            "grid_template_areas": null,
            "grid_template_columns": null,
            "grid_template_rows": null,
            "height": null,
            "justify_content": "flex-start",
            "justify_items": null,
            "left": null,
            "margin": null,
            "max_height": null,
            "max_width": null,
            "min_height": null,
            "min_width": null,
            "object_fit": null,
            "object_position": null,
            "order": null,
            "overflow": null,
            "overflow_x": null,
            "overflow_y": null,
            "padding": null,
            "right": null,
            "top": null,
            "visibility": null,
            "width": null
          }
        },
        "7ebcbac71471468696aeb0d21c646d04": {
          "model_module": "@jupyter-widgets/base",
          "model_name": "LayoutModel",
          "model_module_version": "1.2.0",
          "state": {
            "_model_module": "@jupyter-widgets/base",
            "_model_module_version": "1.2.0",
            "_model_name": "LayoutModel",
            "_view_count": null,
            "_view_module": "@jupyter-widgets/base",
            "_view_module_version": "1.2.0",
            "_view_name": "LayoutView",
            "align_content": null,
            "align_items": null,
            "align_self": null,
            "border": null,
            "bottom": null,
            "display": null,
            "flex": null,
            "flex_flow": null,
            "grid_area": null,
            "grid_auto_columns": null,
            "grid_auto_flow": null,
            "grid_auto_rows": null,
            "grid_column": null,
            "grid_gap": null,
            "grid_row": null,
            "grid_template_areas": null,
            "grid_template_columns": null,
            "grid_template_rows": null,
            "height": "30px",
            "justify_content": null,
            "justify_items": null,
            "left": null,
            "margin": null,
            "max_height": null,
            "max_width": null,
            "min_height": null,
            "min_width": null,
            "object_fit": null,
            "object_position": null,
            "order": null,
            "overflow": null,
            "overflow_x": null,
            "overflow_y": null,
            "padding": null,
            "right": null,
            "top": null,
            "visibility": null,
            "width": "500px"
          }
        },
        "abc2aaafe89645268698579db4ecb08b": {
          "model_module": "@jupyter-widgets/controls",
          "model_name": "DescriptionStyleModel",
          "model_module_version": "1.5.0",
          "state": {
            "_model_module": "@jupyter-widgets/controls",
            "_model_module_version": "1.5.0",
            "_model_name": "DescriptionStyleModel",
            "_view_count": null,
            "_view_module": "@jupyter-widgets/base",
            "_view_module_version": "1.2.0",
            "_view_name": "StyleView",
            "description_width": ""
          }
        },
        "6d1c6e997a874b0ba5ccf5459c443276": {
          "model_module": "@jupyter-widgets/controls",
          "model_name": "DescriptionStyleModel",
          "model_module_version": "1.5.0",
          "state": {
            "_model_module": "@jupyter-widgets/controls",
            "_model_module_version": "1.5.0",
            "_model_name": "DescriptionStyleModel",
            "_view_count": null,
            "_view_module": "@jupyter-widgets/base",
            "_view_module_version": "1.2.0",
            "_view_name": "StyleView",
            "description_width": ""
          }
        },
        "34dceb3e972344f9ac2b2802041c36b5": {
          "model_module": "@jupyter-widgets/controls",
          "model_name": "DescriptionStyleModel",
          "model_module_version": "1.5.0",
          "state": {
            "_model_module": "@jupyter-widgets/controls",
            "_model_module_version": "1.5.0",
            "_model_name": "DescriptionStyleModel",
            "_view_count": null,
            "_view_module": "@jupyter-widgets/base",
            "_view_module_version": "1.2.0",
            "_view_name": "StyleView",
            "description_width": ""
          }
        },
        "e85666e11c6e462c826d9586ac417512": {
          "model_module": "@jupyter-widgets/controls",
          "model_name": "DescriptionStyleModel",
          "model_module_version": "1.5.0",
          "state": {
            "_model_module": "@jupyter-widgets/controls",
            "_model_module_version": "1.5.0",
            "_model_name": "DescriptionStyleModel",
            "_view_count": null,
            "_view_module": "@jupyter-widgets/base",
            "_view_module_version": "1.2.0",
            "_view_name": "StyleView",
            "description_width": ""
          }
        },
        "43d3b5ae48e4408e8845546fbc27a407": {
          "model_module": "@jupyter-widgets/controls",
          "model_name": "DescriptionStyleModel",
          "model_module_version": "1.5.0",
          "state": {
            "_model_module": "@jupyter-widgets/controls",
            "_model_module_version": "1.5.0",
            "_model_name": "DescriptionStyleModel",
            "_view_count": null,
            "_view_module": "@jupyter-widgets/base",
            "_view_module_version": "1.2.0",
            "_view_name": "StyleView",
            "description_width": ""
          }
        },
        "c5e77ce1c5f545d280f7ee2db9206651": {
          "model_module": "@jupyter-widgets/base",
          "model_name": "LayoutModel",
          "model_module_version": "1.2.0",
          "state": {
            "_model_module": "@jupyter-widgets/base",
            "_model_module_version": "1.2.0",
            "_model_name": "LayoutModel",
            "_view_count": null,
            "_view_module": "@jupyter-widgets/base",
            "_view_module_version": "1.2.0",
            "_view_name": "LayoutView",
            "align_content": null,
            "align_items": null,
            "align_self": null,
            "border": null,
            "bottom": null,
            "display": null,
            "flex": null,
            "flex_flow": null,
            "grid_area": null,
            "grid_auto_columns": null,
            "grid_auto_flow": null,
            "grid_auto_rows": null,
            "grid_column": null,
            "grid_gap": null,
            "grid_row": null,
            "grid_template_areas": null,
            "grid_template_columns": null,
            "grid_template_rows": null,
            "height": "30px",
            "justify_content": "flex-end",
            "justify_items": null,
            "left": null,
            "margin": "10px",
            "max_height": null,
            "max_width": null,
            "min_height": null,
            "min_width": null,
            "object_fit": null,
            "object_position": null,
            "order": null,
            "overflow": null,
            "overflow_x": null,
            "overflow_y": null,
            "padding": null,
            "right": null,
            "top": null,
            "visibility": null,
            "width": "300px"
          }
        },
        "2bf55d3592414a809b3cde7805c0041e": {
          "model_module": "@jupyter-widgets/controls",
          "model_name": "ButtonStyleModel",
          "model_module_version": "1.5.0",
          "state": {
            "_model_module": "@jupyter-widgets/controls",
            "_model_module_version": "1.5.0",
            "_model_name": "ButtonStyleModel",
            "_view_count": null,
            "_view_module": "@jupyter-widgets/base",
            "_view_module_version": "1.2.0",
            "_view_name": "StyleView",
            "button_color": null,
            "font_weight": ""
          }
        },
        "2a462901bd7647738fde5210fb39b51a": {
          "model_module": "@jupyter-widgets/base",
          "model_name": "LayoutModel",
          "model_module_version": "1.2.0",
          "state": {
            "_model_module": "@jupyter-widgets/base",
            "_model_module_version": "1.2.0",
            "_model_name": "LayoutModel",
            "_view_count": null,
            "_view_module": "@jupyter-widgets/base",
            "_view_module_version": "1.2.0",
            "_view_name": "LayoutView",
            "align_content": null,
            "align_items": null,
            "align_self": null,
            "border": null,
            "bottom": null,
            "display": null,
            "flex": null,
            "flex_flow": null,
            "grid_area": null,
            "grid_auto_columns": null,
            "grid_auto_flow": null,
            "grid_auto_rows": null,
            "grid_column": null,
            "grid_gap": null,
            "grid_row": null,
            "grid_template_areas": null,
            "grid_template_columns": null,
            "grid_template_rows": null,
            "height": null,
            "justify_content": null,
            "justify_items": null,
            "left": null,
            "margin": null,
            "max_height": null,
            "max_width": null,
            "min_height": null,
            "min_width": null,
            "object_fit": null,
            "object_position": null,
            "order": null,
            "overflow": null,
            "overflow_x": null,
            "overflow_y": null,
            "padding": null,
            "right": null,
            "top": null,
            "visibility": null,
            "width": null
          }
        }
      }
    }
  },
  "nbformat": 4,
  "nbformat_minor": 0
}