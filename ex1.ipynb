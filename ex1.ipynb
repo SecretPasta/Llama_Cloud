{
  "nbformat": 4,
  "nbformat_minor": 0,
  "metadata": {
    "colab": {
      "provenance": [],
      "include_colab_link": true
    },
    "kernelspec": {
      "name": "python3",
      "display_name": "Python 3"
    },
    "language_info": {
      "name": "python"
    },
    "widgets": {
      "application/vnd.jupyter.widget-state+json": {
        "c905ecc7544f415a8a857e824f4c890c": {
          "model_module": "@jupyter-widgets/controls",
          "model_name": "VBoxModel",
          "model_module_version": "1.5.0",
          "state": {
            "_dom_classes": [],
            "_model_module": "@jupyter-widgets/controls",
            "_model_module_version": "1.5.0",
            "_model_name": "VBoxModel",
            "_view_count": null,
            "_view_module": "@jupyter-widgets/controls",
            "_view_module_version": "1.5.0",
            "_view_name": "VBoxView",
            "box_style": "",
            "children": [
              "IPY_MODEL_6bff954030b8460aaf04c8854399d184",
              "IPY_MODEL_23b8e53138984631abec96322a085d58",
              "IPY_MODEL_d5f819fb62604baba6c543898536952d",
              "IPY_MODEL_f782915dda8f4b84acf99a6bbedb0258",
              "IPY_MODEL_2a0c2b6a9223434c848ce8e83e05cf56",
              "IPY_MODEL_2f75bf4570764ed9a6c69e5d133606c8",
              "IPY_MODEL_08cdc78b9b0242a6bef1e3c3bdc45808"
            ],
            "layout": "IPY_MODEL_05a1827d5814403a971af726030c7827"
          }
        },
        "6bff954030b8460aaf04c8854399d184": {
          "model_module": "@jupyter-widgets/controls",
          "model_name": "DropdownModel",
          "model_module_version": "1.5.0",
          "state": {
            "_dom_classes": [],
            "_model_module": "@jupyter-widgets/controls",
            "_model_module_version": "1.5.0",
            "_model_name": "DropdownModel",
            "_options_labels": [
              "Ilya Vorotyntsev",
              "Alex Pitkin",
              "Boris Shoostin",
              "Ofir Ofek",
              "Hagar Tibi",
              "Guy Edri"
            ],
            "_view_count": null,
            "_view_module": "@jupyter-widgets/controls",
            "_view_module_version": "1.5.0",
            "_view_name": "DropdownView",
            "description": "Student:",
            "description_tooltip": null,
            "disabled": false,
            "index": 1,
            "layout": "IPY_MODEL_cbca38d114cb4573b470fef09b399c3b",
            "style": "IPY_MODEL_832e029151d74e2b9a81986ba1c72caa"
          }
        },
        "23b8e53138984631abec96322a085d58": {
          "model_module": "@jupyter-widgets/controls",
          "model_name": "TextModel",
          "model_module_version": "1.5.0",
          "state": {
            "_dom_classes": [],
            "_model_module": "@jupyter-widgets/controls",
            "_model_module_version": "1.5.0",
            "_model_name": "TextModel",
            "_view_count": null,
            "_view_module": "@jupyter-widgets/controls",
            "_view_module_version": "1.5.0",
            "_view_name": "TextView",
            "continuous_update": true,
            "description": "Email:",
            "description_tooltip": null,
            "disabled": false,
            "layout": "IPY_MODEL_cbca38d114cb4573b470fef09b399c3b",
            "placeholder": "​",
            "style": "IPY_MODEL_a9d482d025de44529d1098db40745a9d",
            "value": "Alex.Pitkin@e.braude.ac.il"
          }
        },
        "d5f819fb62604baba6c543898536952d": {
          "model_module": "@jupyter-widgets/controls",
          "model_name": "TextModel",
          "model_module_version": "1.5.0",
          "state": {
            "_dom_classes": [],
            "_model_module": "@jupyter-widgets/controls",
            "_model_module_version": "1.5.0",
            "_model_name": "TextModel",
            "_view_count": null,
            "_view_module": "@jupyter-widgets/controls",
            "_view_module_version": "1.5.0",
            "_view_name": "TextView",
            "continuous_update": true,
            "description": "Courses:",
            "description_tooltip": null,
            "disabled": false,
            "layout": "IPY_MODEL_cbca38d114cb4573b470fef09b399c3b",
            "placeholder": "​",
            "style": "IPY_MODEL_b80a674544274a02bf655ce6a0995621",
            "value": "Math, WEB Technologies, Algebra"
          }
        },
        "f782915dda8f4b84acf99a6bbedb0258": {
          "model_module": "@jupyter-widgets/controls",
          "model_name": "TextModel",
          "model_module_version": "1.5.0",
          "state": {
            "_dom_classes": [],
            "_model_module": "@jupyter-widgets/controls",
            "_model_module_version": "1.5.0",
            "_model_name": "TextModel",
            "_view_count": null,
            "_view_module": "@jupyter-widgets/controls",
            "_view_module_version": "1.5.0",
            "_view_name": "TextView",
            "continuous_update": true,
            "description": "Link:",
            "description_tooltip": null,
            "disabled": false,
            "layout": "IPY_MODEL_cbca38d114cb4573b470fef09b399c3b",
            "placeholder": "​",
            "style": "IPY_MODEL_ce555d8f4fad4a398e29208cc61e00c7",
            "value": "https://bebra.com"
          }
        },
        "2a0c2b6a9223434c848ce8e83e05cf56": {
          "model_module": "@jupyter-widgets/controls",
          "model_name": "TextareaModel",
          "model_module_version": "1.5.0",
          "state": {
            "_dom_classes": [],
            "_model_module": "@jupyter-widgets/controls",
            "_model_module_version": "1.5.0",
            "_model_name": "TextareaModel",
            "_view_count": null,
            "_view_module": "@jupyter-widgets/controls",
            "_view_module_version": "1.5.0",
            "_view_name": "TextareaView",
            "continuous_update": true,
            "description": "Movie:",
            "description_tooltip": null,
            "disabled": false,
            "layout": "IPY_MODEL_cbca38d114cb4573b470fef09b399c3b",
            "placeholder": "Write here your favourite movie...",
            "rows": null,
            "style": "IPY_MODEL_bb1071612ed04cbabcd6a11515e0341f",
            "value": ""
          }
        },
        "2f75bf4570764ed9a6c69e5d133606c8": {
          "model_module": "@jupyter-widgets/controls",
          "model_name": "ButtonModel",
          "model_module_version": "1.5.0",
          "state": {
            "_dom_classes": [],
            "_model_module": "@jupyter-widgets/controls",
            "_model_module_version": "1.5.0",
            "_model_name": "ButtonModel",
            "_view_count": null,
            "_view_module": "@jupyter-widgets/controls",
            "_view_module_version": "1.5.0",
            "_view_name": "ButtonView",
            "button_style": "success",
            "description": "Submit",
            "disabled": false,
            "icon": "check",
            "layout": "IPY_MODEL_504ce9c4c5de46f298418a6b054351a5",
            "style": "IPY_MODEL_8245f436482146fab0e8e11041c2af66",
            "tooltip": ""
          }
        },
        "08cdc78b9b0242a6bef1e3c3bdc45808": {
          "model_module": "@jupyter-widgets/output",
          "model_name": "OutputModel",
          "model_module_version": "1.0.0",
          "state": {
            "_dom_classes": [],
            "_model_module": "@jupyter-widgets/output",
            "_model_module_version": "1.0.0",
            "_model_name": "OutputModel",
            "_view_count": null,
            "_view_module": "@jupyter-widgets/output",
            "_view_module_version": "1.0.0",
            "_view_name": "OutputView",
            "layout": "IPY_MODEL_151e0c355ec84e78b72875437407dccf",
            "msg_id": "",
            "outputs": []
          }
        },
        "05a1827d5814403a971af726030c7827": {
          "model_module": "@jupyter-widgets/base",
          "model_name": "LayoutModel",
          "model_module_version": "1.2.0",
          "state": {
            "_model_module": "@jupyter-widgets/base",
            "_model_module_version": "1.2.0",
            "_model_name": "LayoutModel",
            "_view_count": null,
            "_view_module": "@jupyter-widgets/base",
            "_view_module_version": "1.2.0",
            "_view_name": "LayoutView",
            "align_content": null,
            "align_items": "center",
            "align_self": null,
            "border": null,
            "bottom": null,
            "display": "flex",
            "flex": null,
            "flex_flow": null,
            "grid_area": null,
            "grid_auto_columns": null,
            "grid_auto_flow": null,
            "grid_auto_rows": null,
            "grid_column": null,
            "grid_gap": null,
            "grid_row": null,
            "grid_template_areas": null,
            "grid_template_columns": null,
            "grid_template_rows": null,
            "height": null,
            "justify_content": "flex-start",
            "justify_items": null,
            "left": null,
            "margin": null,
            "max_height": null,
            "max_width": null,
            "min_height": null,
            "min_width": null,
            "object_fit": null,
            "object_position": null,
            "order": null,
            "overflow": null,
            "overflow_x": null,
            "overflow_y": null,
            "padding": null,
            "right": null,
            "top": null,
            "visibility": null,
            "width": null
          }
        },
        "cbca38d114cb4573b470fef09b399c3b": {
          "model_module": "@jupyter-widgets/base",
          "model_name": "LayoutModel",
          "model_module_version": "1.2.0",
          "state": {
            "_model_module": "@jupyter-widgets/base",
            "_model_module_version": "1.2.0",
            "_model_name": "LayoutModel",
            "_view_count": null,
            "_view_module": "@jupyter-widgets/base",
            "_view_module_version": "1.2.0",
            "_view_name": "LayoutView",
            "align_content": null,
            "align_items": null,
            "align_self": null,
            "border": null,
            "bottom": null,
            "display": null,
            "flex": null,
            "flex_flow": null,
            "grid_area": null,
            "grid_auto_columns": null,
            "grid_auto_flow": null,
            "grid_auto_rows": null,
            "grid_column": null,
            "grid_gap": null,
            "grid_row": null,
            "grid_template_areas": null,
            "grid_template_columns": null,
            "grid_template_rows": null,
            "height": "30px",
            "justify_content": null,
            "justify_items": null,
            "left": null,
            "margin": null,
            "max_height": null,
            "max_width": null,
            "min_height": null,
            "min_width": null,
            "object_fit": null,
            "object_position": null,
            "order": null,
            "overflow": null,
            "overflow_x": null,
            "overflow_y": null,
            "padding": null,
            "right": null,
            "top": null,
            "visibility": null,
            "width": "500px"
          }
        },
        "832e029151d74e2b9a81986ba1c72caa": {
          "model_module": "@jupyter-widgets/controls",
          "model_name": "DescriptionStyleModel",
          "model_module_version": "1.5.0",
          "state": {
            "_model_module": "@jupyter-widgets/controls",
            "_model_module_version": "1.5.0",
            "_model_name": "DescriptionStyleModel",
            "_view_count": null,
            "_view_module": "@jupyter-widgets/base",
            "_view_module_version": "1.2.0",
            "_view_name": "StyleView",
            "description_width": ""
          }
        },
        "a9d482d025de44529d1098db40745a9d": {
          "model_module": "@jupyter-widgets/controls",
          "model_name": "DescriptionStyleModel",
          "model_module_version": "1.5.0",
          "state": {
            "_model_module": "@jupyter-widgets/controls",
            "_model_module_version": "1.5.0",
            "_model_name": "DescriptionStyleModel",
            "_view_count": null,
            "_view_module": "@jupyter-widgets/base",
            "_view_module_version": "1.2.0",
            "_view_name": "StyleView",
            "description_width": ""
          }
        },
        "b80a674544274a02bf655ce6a0995621": {
          "model_module": "@jupyter-widgets/controls",
          "model_name": "DescriptionStyleModel",
          "model_module_version": "1.5.0",
          "state": {
            "_model_module": "@jupyter-widgets/controls",
            "_model_module_version": "1.5.0",
            "_model_name": "DescriptionStyleModel",
            "_view_count": null,
            "_view_module": "@jupyter-widgets/base",
            "_view_module_version": "1.2.0",
            "_view_name": "StyleView",
            "description_width": ""
          }
        },
        "ce555d8f4fad4a398e29208cc61e00c7": {
          "model_module": "@jupyter-widgets/controls",
          "model_name": "DescriptionStyleModel",
          "model_module_version": "1.5.0",
          "state": {
            "_model_module": "@jupyter-widgets/controls",
            "_model_module_version": "1.5.0",
            "_model_name": "DescriptionStyleModel",
            "_view_count": null,
            "_view_module": "@jupyter-widgets/base",
            "_view_module_version": "1.2.0",
            "_view_name": "StyleView",
            "description_width": ""
          }
        },
        "bb1071612ed04cbabcd6a11515e0341f": {
          "model_module": "@jupyter-widgets/controls",
          "model_name": "DescriptionStyleModel",
          "model_module_version": "1.5.0",
          "state": {
            "_model_module": "@jupyter-widgets/controls",
            "_model_module_version": "1.5.0",
            "_model_name": "DescriptionStyleModel",
            "_view_count": null,
            "_view_module": "@jupyter-widgets/base",
            "_view_module_version": "1.2.0",
            "_view_name": "StyleView",
            "description_width": ""
          }
        },
        "504ce9c4c5de46f298418a6b054351a5": {
          "model_module": "@jupyter-widgets/base",
          "model_name": "LayoutModel",
          "model_module_version": "1.2.0",
          "state": {
            "_model_module": "@jupyter-widgets/base",
            "_model_module_version": "1.2.0",
            "_model_name": "LayoutModel",
            "_view_count": null,
            "_view_module": "@jupyter-widgets/base",
            "_view_module_version": "1.2.0",
            "_view_name": "LayoutView",
            "align_content": null,
            "align_items": null,
            "align_self": null,
            "border": null,
            "bottom": null,
            "display": null,
            "flex": null,
            "flex_flow": null,
            "grid_area": null,
            "grid_auto_columns": null,
            "grid_auto_flow": null,
            "grid_auto_rows": null,
            "grid_column": null,
            "grid_gap": null,
            "grid_row": null,
            "grid_template_areas": null,
            "grid_template_columns": null,
            "grid_template_rows": null,
            "height": "30px",
            "justify_content": "flex-end",
            "justify_items": null,
            "left": null,
            "margin": "10px",
            "max_height": null,
            "max_width": null,
            "min_height": null,
            "min_width": null,
            "object_fit": null,
            "object_position": null,
            "order": null,
            "overflow": null,
            "overflow_x": null,
            "overflow_y": null,
            "padding": null,
            "right": null,
            "top": null,
            "visibility": null,
            "width": "300px"
          }
        },
        "8245f436482146fab0e8e11041c2af66": {
          "model_module": "@jupyter-widgets/controls",
          "model_name": "ButtonStyleModel",
          "model_module_version": "1.5.0",
          "state": {
            "_model_module": "@jupyter-widgets/controls",
            "_model_module_version": "1.5.0",
            "_model_name": "ButtonStyleModel",
            "_view_count": null,
            "_view_module": "@jupyter-widgets/base",
            "_view_module_version": "1.2.0",
            "_view_name": "StyleView",
            "button_color": null,
            "font_weight": ""
          }
        },
        "151e0c355ec84e78b72875437407dccf": {
          "model_module": "@jupyter-widgets/base",
          "model_name": "LayoutModel",
          "model_module_version": "1.2.0",
          "state": {
            "_model_module": "@jupyter-widgets/base",
            "_model_module_version": "1.2.0",
            "_model_name": "LayoutModel",
            "_view_count": null,
            "_view_module": "@jupyter-widgets/base",
            "_view_module_version": "1.2.0",
            "_view_name": "LayoutView",
            "align_content": null,
            "align_items": null,
            "align_self": null,
            "border": null,
            "bottom": null,
            "display": null,
            "flex": null,
            "flex_flow": null,
            "grid_area": null,
            "grid_auto_columns": null,
            "grid_auto_flow": null,
            "grid_auto_rows": null,
            "grid_column": null,
            "grid_gap": null,
            "grid_row": null,
            "grid_template_areas": null,
            "grid_template_columns": null,
            "grid_template_rows": null,
            "height": null,
            "justify_content": null,
            "justify_items": null,
            "left": null,
            "margin": null,
            "max_height": null,
            "max_width": null,
            "min_height": null,
            "min_width": null,
            "object_fit": null,
            "object_position": null,
            "order": null,
            "overflow": null,
            "overflow_x": null,
            "overflow_y": null,
            "padding": null,
            "right": null,
            "top": null,
            "visibility": null,
            "width": null
          }
        }
      }
    }
  },
  "cells": [
    {
      "cell_type": "markdown",
      "metadata": {
        "id": "view-in-github",
        "colab_type": "text"
      },
      "source": [
        "<a href=\"https://colab.research.google.com/github/SecretPasta/Llama_Cloud/blob/main/ex1.ipynb\" target=\"_parent\"><img src=\"https://colab.research.google.com/assets/colab-badge.svg\" alt=\"Open In Colab\"/></a>"
      ]
    },
    {
      "cell_type": "code",
      "execution_count": 25,
      "metadata": {
        "id": "-QgZ8kAwm-p8"
      },
      "outputs": [],
      "source": [
        "import IPython\n",
        "from IPython.core.display import display_html\n",
        "from typing import Text\n",
        "from ipywidgets import widgets, Box\n",
        "from IPython.display import HTML\n",
        "from google.colab.output import _publish as publish\n",
        "from google.colab import drive\n",
        "import re\n"
      ]
    },
    {
      "cell_type": "code",
      "source": [
        "drive.mount('/content/drive')"
      ],
      "metadata": {
        "colab": {
          "base_uri": "https://localhost:8080/"
        },
        "id": "m625g_dcoSwP",
        "outputId": "fe21fa85-ea6e-498e-da08-f623d6f51f60"
      },
      "execution_count": 26,
      "outputs": [
        {
          "output_type": "stream",
          "name": "stdout",
          "text": [
            "Drive already mounted at /content/drive; to attempt to forcibly remount, call drive.mount(\"/content/drive\", force_remount=True).\n"
          ]
        }
      ]
    },
    {
      "cell_type": "code",
      "source": [
        "!ls \"/content/drive/My Drive/Colab Notebooks\"\n"
      ],
      "metadata": {
        "id": "ZlSFFzMq_PAz",
        "outputId": "9b767218-a1bb-4837-fda7-2f41755e32d8",
        "colab": {
          "base_uri": "https://localhost:8080/"
        }
      },
      "execution_count": 27,
      "outputs": [
        {
          "output_type": "stream",
          "name": "stdout",
          "text": [
            "Create_dictionary.ipynb  NLP_1_0.ipynb\tSimple_avatar.ipynb  students.txt  Untitled0.ipynb\n"
          ]
        }
      ]
    },
    {
      "cell_type": "code",
      "source": [
        "cd /content/drive/MyDrive/Colab Notebooks"
      ],
      "metadata": {
        "id": "Ebcy-lmv_Xsx",
        "outputId": "21b502b7-9a1d-4633-c047-0af72e3aac6b",
        "colab": {
          "base_uri": "https://localhost:8080/"
        }
      },
      "execution_count": 28,
      "outputs": [
        {
          "output_type": "stream",
          "name": "stdout",
          "text": [
            "/content/drive/MyDrive/Colab Notebooks\n"
          ]
        }
      ]
    },
    {
      "cell_type": "code",
      "source": [
        "def student_data(student):\n",
        "  pattern = re.compile(r'(?P[\\w\\s]+) (?P[\\w.-]+@[\\w.-]+) (?P[\\w\\s,]+) (?Phttps?://[\\w./]+)')\n",
        "  matches = pattern.finditer(student)\n",
        "  student_details={}\n",
        "  for match in matches:\n",
        "    student_details = match.groupdict()\n",
        "  return student_details"
      ],
      "metadata": {
        "id": "fsSQ8R7B_ZbZ"
      },
      "execution_count": 29,
      "outputs": []
    },
    {
      "cell_type": "code",
      "source": [
        "def student_data(student_str):\n",
        "    # Split the student string into components\n",
        "    components = student_str.split()\n",
        "\n",
        "    # Check if there are enough components (at least 4) to extract data\n",
        "    if len(components) >= 4:\n",
        "        full_name = components[0] + \" \" + components[1]\n",
        "        email = components[2]\n",
        "        courses = components[3:-1]  # Extract all components except the last one\n",
        "        website = components[-1]\n",
        "\n",
        "        # Convert the list of courses into a single string, separated by commas\n",
        "        courses_string = \" \".join(courses)\n",
        "\n",
        "        # Create a dictionary to store student data\n",
        "        student_data = {\n",
        "            \"name\": full_name,\n",
        "            \"email\": email,\n",
        "            \"courses\": courses_string,  # Set the courses as a single string\n",
        "            \"link\": website\n",
        "        }\n",
        "\n",
        "        return student_data\n",
        "    else:\n",
        "        print(f\"Error: Invalid student data format: {student_str}\")\n",
        "        return None\n",
        "\n",
        "with open('students.txt', \"r\") as file:\n",
        "    content = file.readlines()\n",
        "    students_dict = {}\n",
        "\n",
        "    for student_str in content:\n",
        "        if student_str.strip():  # Check if the line is not empty or just whitespace\n",
        "            data = student_data(student_str)\n",
        "            if data:\n",
        "                student_key = data[\"name\"]\n",
        "                del data[\"name\"]\n",
        "                students_dict[student_key] = data"
      ],
      "metadata": {
        "id": "XzMmZ44__bDs",
        "outputId": "3a4de684-dd2a-487e-fd1f-3b89752b82b1",
        "colab": {
          "base_uri": "https://localhost:8080/"
        }
      },
      "execution_count": 30,
      "outputs": [
        {
          "output_type": "stream",
          "name": "stdout",
          "text": [
            "Error: Invalid student data format: Ilya Vorotyntsev Ilya.Vorotyntsev@e.braude.ac.il   \n",
            "\n",
            "Error: Invalid student data format: Alex Pitkin Alex.Pitkin@e.braude.ac.il   \n",
            "\n"
          ]
        }
      ]
    },
    {
      "cell_type": "code",
      "source": [
        "def on_change(change):\n",
        "    if change['type'] == 'change' and change['name'] == 'value':\n",
        "        email.value=students_dict[change[\"new\"]][\"email\"]\n",
        "        courses.value=students_dict[change[\"new\"]][\"courses\"]\n",
        "        link.value=students_dict[change[\"new\"]][\"link\"]"
      ],
      "metadata": {
        "id": "F0Mto2aOXo2s"
      },
      "execution_count": 31,
      "outputs": []
    },
    {
      "cell_type": "code",
      "source": [
        "def on_button_clicked(b):\n",
        "    with output:\n",
        "        print(\"Saved in 'students.txt'.\")\n",
        "        line=w.value + \" \" + email.value + \" \" + courses.value + \" \" + link.value + \" \" + movie.value + \"\\n\"\n",
        "        #print(line)\n",
        "\n",
        "    with open(\"students.txt\", \"a\") as file:\n",
        "      file.write(line)"
      ],
      "metadata": {
        "id": "zqWGAKVQbk4Q"
      },
      "execution_count": 32,
      "outputs": []
    },
    {
      "cell_type": "code",
      "source": [
        "layout = widgets.Layout(width='500px', height='30px')\n",
        "w = widgets.Dropdown(\n",
        "    options=list(students_dict.keys()),\n",
        "    value= None,\n",
        "    description='Student:',\n",
        "    layout=layout\n",
        ")\n",
        "email=widgets.Text(value='', description=\"Email:\", layout = layout)\n",
        "courses=widgets.Text(value='', description=\"Courses:\", layout = layout)\n",
        "link=widgets.Text(value='', description=\"Link:\", layout = layout)\n",
        "movie=widgets.Textarea(\n",
        "    value='',\n",
        "    placeholder='Write here your favourite movie...',\n",
        "    description='Movie:',\n",
        "    layout=layout\n",
        ")\n",
        "button = widgets.Button(\n",
        "    description='Submit',\n",
        "    button_style='success',\n",
        "    icon='check',\n",
        "    layout=widgets.Layout(width='300px', height='30px', justify_content=\"flex-end\", margin=\"10px\")\n",
        ")\n",
        "output = widgets.Output()\n",
        "\n",
        "button.on_click(on_button_clicked)\n",
        "\n",
        "w.observe(on_change)\n",
        "\n",
        "form = widgets.VBox([w, email, courses, link, movie, button, output], layout=widgets.Layout(display=\"flex\", justify_content=\"flex-start\", align_items=\"center\"))\n",
        "\n",
        "display(form)\n"
      ],
      "metadata": {
        "id": "Qe3_xZk3fQmz",
        "outputId": "9358394c-be5e-4019-df0c-2b27daa8601b",
        "colab": {
          "base_uri": "https://localhost:8080/",
          "height": 237,
          "referenced_widgets": [
            "c905ecc7544f415a8a857e824f4c890c",
            "6bff954030b8460aaf04c8854399d184",
            "23b8e53138984631abec96322a085d58",
            "d5f819fb62604baba6c543898536952d",
            "f782915dda8f4b84acf99a6bbedb0258",
            "2a0c2b6a9223434c848ce8e83e05cf56",
            "2f75bf4570764ed9a6c69e5d133606c8",
            "08cdc78b9b0242a6bef1e3c3bdc45808",
            "05a1827d5814403a971af726030c7827",
            "cbca38d114cb4573b470fef09b399c3b",
            "832e029151d74e2b9a81986ba1c72caa",
            "a9d482d025de44529d1098db40745a9d",
            "b80a674544274a02bf655ce6a0995621",
            "ce555d8f4fad4a398e29208cc61e00c7",
            "bb1071612ed04cbabcd6a11515e0341f",
            "504ce9c4c5de46f298418a6b054351a5",
            "8245f436482146fab0e8e11041c2af66",
            "151e0c355ec84e78b72875437407dccf"
          ]
        }
      },
      "execution_count": 33,
      "outputs": [
        {
          "output_type": "display_data",
          "data": {
            "text/plain": [
              "VBox(children=(Dropdown(description='Student:', layout=Layout(height='30px', width='500px'), options=('Ilya Vo…"
            ],
            "application/vnd.jupyter.widget-view+json": {
              "version_major": 2,
              "version_minor": 0,
              "model_id": "c905ecc7544f415a8a857e824f4c890c"
            }
          },
          "metadata": {}
        }
      ]
    }
  ]
}