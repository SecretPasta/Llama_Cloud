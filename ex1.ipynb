{
  "nbformat": 4,
  "nbformat_minor": 0,
  "metadata": {
    "colab": {
      "provenance": [],
      "include_colab_link": true
    },
    "kernelspec": {
      "name": "python3",
      "display_name": "Python 3"
    },
    "language_info": {
      "name": "python"
    }
  },
  "cells": [
    {
      "cell_type": "markdown",
      "metadata": {
        "id": "view-in-github",
        "colab_type": "text"
      },
      "source": [
        "<a href=\"https://colab.research.google.com/github/SecretPasta/Llama_Cloud/blob/main/ex1.ipynb\" target=\"_parent\"><img src=\"https://colab.research.google.com/assets/colab-badge.svg\" alt=\"Open In Colab\"/></a>"
      ]
    },
    {
      "cell_type": "code",
      "execution_count": null,
      "metadata": {
        "id": "-QgZ8kAwm-p8"
      },
      "outputs": [],
      "source": [
        "import IPython\n",
        "from IPython.core.display import display_html\n",
        "from typing import Text\n",
        "from ipywidgets import widgets, Box\n",
        "from IPython.display import HTML\n",
        "from google.colab.output import _publish as publish\n",
        "from google.colab import drive\n",
        "import re\n"
      ]
    },
    {
      "cell_type": "code",
      "source": [
        "drive.mount('/content/drive')"
      ],
      "metadata": {
        "colab": {
          "base_uri": "https://localhost:8080/"
        },
        "id": "m625g_dcoSwP",
        "outputId": "6240afd8-670f-4751-ccf6-dcfb6787e03b"
      },
      "execution_count": null,
      "outputs": [
        {
          "output_type": "stream",
          "name": "stdout",
          "text": [
            "Drive already mounted at /content/drive; to attempt to forcibly remount, call drive.mount(\"/content/drive\", force_remount=True).\n"
          ]
        }
      ]
    },
    {
      "cell_type": "code",
      "source": [
        "!ls \"/content/drive/My Drive/Colab Notebooks\"\n"
      ],
      "metadata": {
        "id": "ZlSFFzMq_PAz"
      },
      "execution_count": null,
      "outputs": []
    },
    {
      "cell_type": "code",
      "source": [
        "cd /content/drive/MyDrive/Colab Notebooks"
      ],
      "metadata": {
        "id": "Ebcy-lmv_Xsx"
      },
      "execution_count": null,
      "outputs": []
    },
    {
      "cell_type": "code",
      "source": [
        "def student_data(student):\n",
        "  pattern = re.compile(r'(?P[\\w\\s]+) (?P[\\w.-]+@[\\w.-]+) (?P[\\w\\s,]+) (?Phttps?://[\\w./]+)')\n",
        "  matches = pattern.finditer(student)\n",
        "  student_details={}\n",
        "  for match in matches:\n",
        "    student_details = match.groupdict()\n",
        "  return student_details"
      ],
      "metadata": {
        "id": "fsSQ8R7B_ZbZ"
      },
      "execution_count": null,
      "outputs": []
    },
    {
      "cell_type": "code",
      "source": [
        "with open('students.txt', \"r\") as file:\n",
        "  content = file.readlines()\n",
        "  students = [student[:-1]  for student in content if student != \"\\n\"]\n",
        "\n",
        "students_dict = {}\n",
        "for student in students:\n",
        "  data = student_data(student)\n",
        "  student_key = data[\"name\"]\n",
        "  del data[\"name\"]\n",
        "  students_dict[student_key] = data"
      ],
      "metadata": {
        "id": "XzMmZ44__bDs"
      },
      "execution_count": null,
      "outputs": []
    }
  ]
}