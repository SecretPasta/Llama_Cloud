{
  "nbformat": 4,
  "nbformat_minor": 0,
  "metadata": {
    "colab": {
      "provenance": [],
      "authorship_tag": "ABX9TyNogli5hWuCeFyWpHJzUi47",
      "include_colab_link": true
    },
    "kernelspec": {
      "name": "python3",
      "display_name": "Python 3"
    },
    "language_info": {
      "name": "python"
    }
  },
  "cells": [
    {
      "cell_type": "markdown",
      "metadata": {
        "id": "view-in-github",
        "colab_type": "text"
      },
      "source": [
        "<a href=\"https://colab.research.google.com/github/SecretPasta/Llama_Cloud/blob/main/ex8_Llama_ChatBot.ipynb\" target=\"_parent\"><img src=\"https://colab.research.google.com/assets/colab-badge.svg\" alt=\"Open In Colab\"/></a>"
      ]
    },
    {
      "cell_type": "code",
      "source": [
        "!pip install nltk"
      ],
      "metadata": {
        "colab": {
          "base_uri": "https://localhost:8080/"
        },
        "id": "fg2QKCZCkgFI",
        "outputId": "214e00b2-2d33-4896-abc5-b0d803833df3"
      },
      "execution_count": 1,
      "outputs": [
        {
          "output_type": "stream",
          "name": "stdout",
          "text": [
            "Requirement already satisfied: nltk in /usr/local/lib/python3.10/dist-packages (3.8.1)\n",
            "Requirement already satisfied: click in /usr/local/lib/python3.10/dist-packages (from nltk) (8.1.7)\n",
            "Requirement already satisfied: joblib in /usr/local/lib/python3.10/dist-packages (from nltk) (1.3.2)\n",
            "Requirement already satisfied: regex>=2021.8.3 in /usr/local/lib/python3.10/dist-packages (from nltk) (2023.12.25)\n",
            "Requirement already satisfied: tqdm in /usr/local/lib/python3.10/dist-packages (from nltk) (4.66.2)\n"
          ]
        }
      ]
    },
    {
      "cell_type": "code",
      "execution_count": 3,
      "metadata": {
        "colab": {
          "base_uri": "https://localhost:8080/",
          "height": 512
        },
        "id": "gBxX9vdQj3bv",
        "outputId": "984b88ce-3dbf-4de5-d9e2-c4345be804fc"
      },
      "outputs": [
        {
          "output_type": "stream",
          "name": "stdout",
          "text": [
            "Hello! I'm the AWS ChatBot. How can I help you with AWS today?\n",
            "You: hello\n",
            "AWS ChatBot: Hi there! How can I assist you with AWS today?\n",
            "You: hi\n",
            "AWS ChatBot: Hi there! How can I assist you with AWS today?\n",
            "You: hey\n",
            "AWS ChatBot: Hello! 😊 Welcome to AWS help chat!\n",
            "You: allo\n",
            "AWS ChatBot: Sorry, I didn't understand that. Can you rephrase?\n"
          ]
        },
        {
          "output_type": "error",
          "ename": "KeyboardInterrupt",
          "evalue": "Interrupted by user",
          "traceback": [
            "\u001b[0;31m---------------------------------------------------------------------------\u001b[0m",
            "\u001b[0;31mKeyboardInterrupt\u001b[0m                         Traceback (most recent call last)",
            "\u001b[0;32m<ipython-input-3-2d93b91d628d>\u001b[0m in \u001b[0;36m<cell line: 41>\u001b[0;34m()\u001b[0m\n\u001b[1;32m     40\u001b[0m \u001b[0mprint\u001b[0m\u001b[0;34m(\u001b[0m\u001b[0;34m\"Hello! I'm the AWS ChatBot. How can I help you with AWS today?\"\u001b[0m\u001b[0;34m)\u001b[0m\u001b[0;34m\u001b[0m\u001b[0;34m\u001b[0m\u001b[0m\n\u001b[1;32m     41\u001b[0m \u001b[0;32mwhile\u001b[0m \u001b[0;32mTrue\u001b[0m\u001b[0;34m:\u001b[0m\u001b[0;34m\u001b[0m\u001b[0;34m\u001b[0m\u001b[0m\n\u001b[0;32m---> 42\u001b[0;31m     \u001b[0muser_input\u001b[0m \u001b[0;34m=\u001b[0m \u001b[0minput\u001b[0m\u001b[0;34m(\u001b[0m\u001b[0;34m\"You: \"\u001b[0m\u001b[0;34m)\u001b[0m\u001b[0;34m\u001b[0m\u001b[0;34m\u001b[0m\u001b[0m\n\u001b[0m\u001b[1;32m     43\u001b[0m     \u001b[0mresponse\u001b[0m \u001b[0;34m=\u001b[0m \u001b[0mchatbot\u001b[0m\u001b[0;34m.\u001b[0m\u001b[0mrespond\u001b[0m\u001b[0;34m(\u001b[0m\u001b[0muser_input\u001b[0m\u001b[0;34m)\u001b[0m\u001b[0;34m\u001b[0m\u001b[0;34m\u001b[0m\u001b[0m\n\u001b[1;32m     44\u001b[0m     \u001b[0;32mif\u001b[0m \u001b[0mresponse\u001b[0m\u001b[0;34m:\u001b[0m\u001b[0;34m\u001b[0m\u001b[0;34m\u001b[0m\u001b[0m\n",
            "\u001b[0;32m/usr/local/lib/python3.10/dist-packages/ipykernel/kernelbase.py\u001b[0m in \u001b[0;36mraw_input\u001b[0;34m(self, prompt)\u001b[0m\n\u001b[1;32m    849\u001b[0m                 \u001b[0;34m\"raw_input was called, but this frontend does not support input requests.\"\u001b[0m\u001b[0;34m\u001b[0m\u001b[0;34m\u001b[0m\u001b[0m\n\u001b[1;32m    850\u001b[0m             )\n\u001b[0;32m--> 851\u001b[0;31m         return self._input_request(str(prompt),\n\u001b[0m\u001b[1;32m    852\u001b[0m             \u001b[0mself\u001b[0m\u001b[0;34m.\u001b[0m\u001b[0m_parent_ident\u001b[0m\u001b[0;34m,\u001b[0m\u001b[0;34m\u001b[0m\u001b[0;34m\u001b[0m\u001b[0m\n\u001b[1;32m    853\u001b[0m             \u001b[0mself\u001b[0m\u001b[0;34m.\u001b[0m\u001b[0m_parent_header\u001b[0m\u001b[0;34m,\u001b[0m\u001b[0;34m\u001b[0m\u001b[0;34m\u001b[0m\u001b[0m\n",
            "\u001b[0;32m/usr/local/lib/python3.10/dist-packages/ipykernel/kernelbase.py\u001b[0m in \u001b[0;36m_input_request\u001b[0;34m(self, prompt, ident, parent, password)\u001b[0m\n\u001b[1;32m    893\u001b[0m             \u001b[0;32mexcept\u001b[0m \u001b[0mKeyboardInterrupt\u001b[0m\u001b[0;34m:\u001b[0m\u001b[0;34m\u001b[0m\u001b[0;34m\u001b[0m\u001b[0m\n\u001b[1;32m    894\u001b[0m                 \u001b[0;31m# re-raise KeyboardInterrupt, to truncate traceback\u001b[0m\u001b[0;34m\u001b[0m\u001b[0;34m\u001b[0m\u001b[0m\n\u001b[0;32m--> 895\u001b[0;31m                 \u001b[0;32mraise\u001b[0m \u001b[0mKeyboardInterrupt\u001b[0m\u001b[0;34m(\u001b[0m\u001b[0;34m\"Interrupted by user\"\u001b[0m\u001b[0;34m)\u001b[0m \u001b[0;32mfrom\u001b[0m \u001b[0;32mNone\u001b[0m\u001b[0;34m\u001b[0m\u001b[0;34m\u001b[0m\u001b[0m\n\u001b[0m\u001b[1;32m    896\u001b[0m             \u001b[0;32mexcept\u001b[0m \u001b[0mException\u001b[0m \u001b[0;32mas\u001b[0m \u001b[0me\u001b[0m\u001b[0;34m:\u001b[0m\u001b[0;34m\u001b[0m\u001b[0;34m\u001b[0m\u001b[0m\n\u001b[1;32m    897\u001b[0m                 \u001b[0mself\u001b[0m\u001b[0;34m.\u001b[0m\u001b[0mlog\u001b[0m\u001b[0;34m.\u001b[0m\u001b[0mwarning\u001b[0m\u001b[0;34m(\u001b[0m\u001b[0;34m\"Invalid Message:\"\u001b[0m\u001b[0;34m,\u001b[0m \u001b[0mexc_info\u001b[0m\u001b[0;34m=\u001b[0m\u001b[0;32mTrue\u001b[0m\u001b[0;34m)\u001b[0m\u001b[0;34m\u001b[0m\u001b[0;34m\u001b[0m\u001b[0m\n",
            "\u001b[0;31mKeyboardInterrupt\u001b[0m: Interrupted by user"
          ]
        }
      ],
      "source": [
        "import nltk\n",
        "from nltk.chat.util import Chat, reflections\n",
        "\n",
        "# Assuming necessary NLTK data is already downloaded\n",
        "\n",
        "patterns = [\n",
        "    # Greetings and basic interactions\n",
        "    (r'hi|hello|hey', ['Hello! 😊 Welcome to AWS help chat!', 'Hi there! How can I assist you with AWS today?']),\n",
        "    (r'how are you?', ['I\\'m just a bot, so I\\'m always operating at peak efficiency! 😉', 'Doing well, thanks! Ready to dive into AWS queries.']),\n",
        "    (r'what is your name?', ['Call me AWS Bot. Your go-to assistant for all things AWS!']),\n",
        "\n",
        "    # AWS Services-specific patterns\n",
        "    (r'(.*) (EC2|S3|RDS|Lambda)', ['It seems you need help with AWS %2. What specifics are you looking for? Setup, pricing, best practices?']),\n",
        "    (r'(.*)cost of (EC2|S3|RDS|Lambda)?', ['The cost of %2 can vary based on usage, region, and the specific plan. For a detailed breakdown, would you like a link to the AWS pricing page?']),\n",
        "    (r'how do I (.*)(?: in AWS)?', ['That sounds like something I can help with. Could you give me a bit more context or specify the service?']),\n",
        "\n",
        "    # Providing help and documentation\n",
        "    (r'what is (EC2|S3|RDS|Lambda)?', ['%1 is an AWS service. Do you want an overview, or are you looking for specific documentation?']),\n",
        "    (r'(.*)(documentation|docs)(.*)', ['Documentation is key! 📚 Which AWS service docs are you looking for? I can guide you to the right place.']),\n",
        "\n",
        "    # Fun and engagement\n",
        "    (r'tell me a joke', ['Why did the developer go broke? Because he used up all his cache! 😂']),\n",
        "    (r'(.*)favorite AWS service?', ['I\\'m a bot, so I don\\'t have personal preferences. But if I did, I\\'d say I\\'m partial to AWS Lex. It\\'s what makes chatbots like me possible!']),\n",
        "    (r'(.*)cloud(.*)', ['Clouds, huh? In AWS, we think the sky’s the limit! ☁️ Whether it’s storage, computing, or database services, we’ve got you covered.']),\n",
        "\n",
        "    # Easter eggs\n",
        "    (r'open the pod bay doors', ['I\\'m sorry, Dave. I\\'m afraid I can\\'t do that. I\\'m not HAL and this isn\\'t the Discovery One. 🚀']),\n",
        "    (r'(.*)meaning of life(.*)', ['42, according to \"The Hitchhiker\\'s Guide to the Galaxy\" by Douglas Adams. But in AWS, it\\'s providing flexible, reliable, scalable, and cost-effective cloud computing services.']),\n",
        "\n",
        "    # General AWS guidance\n",
        "    (r'(.*)get started with AWS?', ['Getting started with AWS is easy and exciting! You should begin with the AWS Management Console. Would you like a guide on how to set up an account?']),\n",
        "    (r'(.*)troubleshoot(.*)', ['Troubleshooting is part of the journey. What specific issue are you facing? I might be able to provide some guidance or direct you to helpful resources.']),\n",
        "    # More specific patterns and responses can be added here\n",
        "]\n",
        "\n",
        "# Create a chatbot with AWS-focused responses\n",
        "chatbot = Chat(patterns, reflections)\n",
        "\n",
        "# Start the conversation\n",
        "print(\"Hello! I'm the AWS ChatBot. How can I help you with AWS today?\")\n",
        "while True:\n",
        "    user_input = input(\"You: \")\n",
        "    response = chatbot.respond(user_input)\n",
        "    if response:\n",
        "        print(\"AWS ChatBot:\", response)\n",
        "    else:\n",
        "        print(\"AWS ChatBot: Sorry, I didn't understand that. Can you rephrase?\")\n"
      ]
    }
  ]
}