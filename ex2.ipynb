{
  "nbformat": 4,
  "nbformat_minor": 0,
  "metadata": {
    "colab": {
      "provenance": [],
      "authorship_tag": "ABX9TyMD3TLNsB0ml5MUef1H4UBP",
      "include_colab_link": true
    },
    "kernelspec": {
      "name": "python3",
      "display_name": "Python 3"
    },
    "language_info": {
      "name": "python"
    }
  },
  "cells": [
    {
      "cell_type": "markdown",
      "metadata": {
        "id": "view-in-github",
        "colab_type": "text"
      },
      "source": [
        "<a href=\"https://colab.research.google.com/github/SecretPasta/Llama_Cloud/blob/main/ex2.ipynb\" target=\"_parent\"><img src=\"https://colab.research.google.com/assets/colab-badge.svg\" alt=\"Open In Colab\"/></a>"
      ]
    },
    {
      "cell_type": "code",
      "execution_count": 9,
      "metadata": {
        "id": "sUYcnf55JJij"
      },
      "outputs": [],
      "source": [
        "import json\n",
        "from IPython.core.display import display_html\n",
        "from typing import Text\n",
        "from ipywidgets import widgets, Box\n",
        "from IPython.display import HTML\n",
        "from google.colab.output import _publish as publish\n",
        "from google.colab import drive\n",
        "import re"
      ]
    },
    {
      "cell_type": "code",
      "source": [
        "drive.mount('/content/drive')"
      ],
      "metadata": {
        "colab": {
          "base_uri": "https://localhost:8080/"
        },
        "id": "odVB-YufOCZ0",
        "outputId": "cddc4d5c-ea54-490e-97f5-17964693bab5"
      },
      "execution_count": 10,
      "outputs": [
        {
          "output_type": "stream",
          "name": "stdout",
          "text": [
            "Mounted at /content/drive\n"
          ]
        }
      ]
    },
    {
      "cell_type": "code",
      "source": [
        "!ls \"/content/drive/My Drive/Colab Notebooks\""
      ],
      "metadata": {
        "colab": {
          "base_uri": "https://localhost:8080/"
        },
        "id": "lcA9rTKsOo6u",
        "outputId": "5f0165ca-27ca-481c-f20e-f2edd3f1afa2"
      },
      "execution_count": 11,
      "outputs": [
        {
          "output_type": "stream",
          "name": "stdout",
          "text": [
            "Create_dictionary.ipynb  NLP_1_0.ipynb\t      students.txt\n",
            "ex2.ipynb\t\t Simple_avatar.ipynb  Untitled0.ipynb\n"
          ]
        }
      ]
    },
    {
      "cell_type": "code",
      "source": [
        "cd /content/drive/MyDrive/Colab Notebooks"
      ],
      "metadata": {
        "colab": {
          "base_uri": "https://localhost:8080/"
        },
        "id": "E0oLYBYcOrdy",
        "outputId": "f8cde02b-4d09-4d90-8d89-d3f0f8c21ab5"
      },
      "execution_count": 12,
      "outputs": [
        {
          "output_type": "stream",
          "name": "stdout",
          "text": [
            "/content/drive/MyDrive/Colab Notebooks\n"
          ]
        }
      ]
    },
    {
      "cell_type": "markdown",
      "source": [
        "Code to parce txt file below"
      ],
      "metadata": {
        "id": "0OW-zFA6O46F"
      }
    },
    {
      "cell_type": "code",
      "source": [
        "def student_data(student):\n",
        "  pattern = re.compile(r'(?P<name>[\\w\\s]+) (?P<email>[\\w.-]+@[\\w.-]+) (?P<courses>[\\w\\s,]+) (?P<link>https?://[\\w./]+)')\n",
        "  matches = pattern.finditer(student)\n",
        "  student_details={}\n",
        "  for match in matches:\n",
        "    student_details = match.groupdict()\n",
        "  return student_details\n"
      ],
      "metadata": {
        "id": "r8mnevBfOur1"
      },
      "execution_count": 13,
      "outputs": []
    },
    {
      "cell_type": "code",
      "source": [
        "with open('students.txt', \"r\") as file:\n",
        "  content = file.readlines()\n",
        "  students = [student[:-1]  for student in content if student != \"\\n\"]\n",
        "\n",
        "students_dict = {}\n",
        "for student in students:\n",
        "  data = student_data(student)\n",
        "  student_key = data[\"name\"]\n",
        "  del data[\"name\"]\n",
        "  students_dict[student_key] = data\n"
      ],
      "metadata": {
        "id": "NKfE2XN3Ouzv"
      },
      "execution_count": 14,
      "outputs": []
    },
    {
      "cell_type": "markdown",
      "source": [
        "Creating a Students JSON file from the txt"
      ],
      "metadata": {
        "id": "zVND1GWHQE8B"
      }
    },
    {
      "cell_type": "code",
      "source": [
        "with open ('student.json', \"w\") as file:\n",
        "  json.dump(students_dict,file)"
      ],
      "metadata": {
        "id": "w7OAJeKYPHIe"
      },
      "execution_count": 15,
      "outputs": []
    }
  ]
}