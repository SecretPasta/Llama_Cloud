{
  "nbformat": 4,
  "nbformat_minor": 0,
  "metadata": {
    "colab": {
      "provenance": [],
      "authorship_tag": "ABX9TyPF0V08nbp1blRAxtcG3haX",
      "include_colab_link": true
    },
    "kernelspec": {
      "name": "python3",
      "display_name": "Python 3"
    },
    "language_info": {
      "name": "python"
    }
  },
  "cells": [
    {
      "cell_type": "markdown",
      "metadata": {
        "id": "view-in-github",
        "colab_type": "text"
      },
      "source": [
        "<a href=\"https://colab.research.google.com/github/SecretPasta/Llama_Cloud/blob/main/ex3.ipynb\" target=\"_parent\"><img src=\"https://colab.research.google.com/assets/colab-badge.svg\" alt=\"Open In Colab\"/></a>"
      ]
    },
    {
      "cell_type": "code",
      "execution_count": 1,
      "metadata": {
        "id": "pxGSPmDwLEtR"
      },
      "outputs": [],
      "source": [
        "import json\n",
        "from IPython.core.display import display_html\n",
        "from typing import Text\n",
        "from ipywidgets import widgets, Box\n",
        "from IPython.display import HTML\n",
        "from google.colab.output import _publish as publish\n",
        "from google.colab import drive\n",
        "import re"
      ]
    },
    {
      "cell_type": "code",
      "source": [
        "drive.mount('/content/drive')"
      ],
      "metadata": {
        "colab": {
          "base_uri": "https://localhost:8080/"
        },
        "id": "23bK0shyQl_X",
        "outputId": "38567e9d-1063-4847-c225-d5ef5afde811"
      },
      "execution_count": 2,
      "outputs": [
        {
          "output_type": "stream",
          "name": "stdout",
          "text": [
            "Mounted at /content/drive\n"
          ]
        }
      ]
    },
    {
      "cell_type": "code",
      "source": [
        "!ls \"/content/drive/My Drive/Colab Notebooks\""
      ],
      "metadata": {
        "colab": {
          "base_uri": "https://localhost:8080/"
        },
        "id": "tDpkfNhiQpo-",
        "outputId": "f6ab7b1e-7b9e-4616-9aac-25457b965283"
      },
      "execution_count": 3,
      "outputs": [
        {
          "output_type": "stream",
          "name": "stdout",
          "text": [
            " Cloud\t\t\t\t\t\t NLP_1_0.ipynb\n",
            "'Copy of Lab - Python Basics With Numpy.ipynb'\t Sentiment.csv\n",
            " Create_dictionary.ipynb\t\t\t Simple_avatar.ipynb\n",
            " ex2.ipynb\t\t\t\t\t student.json\n",
            " GTL_Notebook\t\t\t\t\t students.txt\n",
            "'Lab - Python Basics With Numpy.ipynb'\t\t Untitled0.ipynb\n"
          ]
        }
      ]
    },
    {
      "cell_type": "code",
      "source": [
        "cd /content/drive/MyDrive/Colab Notebooks/Cloud"
      ],
      "metadata": {
        "colab": {
          "base_uri": "https://localhost:8080/"
        },
        "id": "94qJTxdMQvYx",
        "outputId": "0ff8ecda-3a33-4f0f-cc10-b8f8f83ab56b"
      },
      "execution_count": 4,
      "outputs": [
        {
          "output_type": "stream",
          "name": "stdout",
          "text": [
            "/content/drive/MyDrive/Colab Notebooks/Cloud\n"
          ]
        }
      ]
    },
    {
      "cell_type": "code",
      "source": [
        "with open('questions.json', \"r\") as file:\n",
        "  questions = json.load(file)"
      ],
      "metadata": {
        "id": "XUqCeTJyQ2aT"
      },
      "execution_count": 5,
      "outputs": []
    },
    {
      "cell_type": "code",
      "source": [
        "questions"
      ],
      "metadata": {
        "colab": {
          "base_uri": "https://localhost:8080/"
        },
        "id": "c_lbT_QNRLEn",
        "outputId": "21d04e6f-64ef-4455-b987-1a35ebc8996c"
      },
      "execution_count": 6,
      "outputs": [
        {
          "output_type": "execute_result",
          "data": {
            "text/plain": [
              "{'questions': [{'question': 'What is the result of 2 + 2 in Python?',\n",
              "   'answers': [{'text': '3', 'correct': False},\n",
              "    {'text': '4', 'correct': True},\n",
              "    {'text': '5', 'correct': False},\n",
              "    {'text': '6', 'correct': False}]},\n",
              "  {'question': 'Which of the following is NOT a valid Python data type?',\n",
              "   'answers': [{'text': 'int', 'correct': False},\n",
              "    {'text': 'str', 'correct': False},\n",
              "    {'text': 'list', 'correct': False},\n",
              "    {'text': 'float*', 'correct': True}]},\n",
              "  {'question': \"What is the purpose of 'if' statements in Python?\",\n",
              "   'answers': [{'text': 'To declare variables', 'correct': False},\n",
              "    {'text': 'To iterate over a list', 'correct': False},\n",
              "    {'text': 'To perform mathematical calculations', 'correct': False},\n",
              "    {'text': 'To control the flow of the program based on conditions',\n",
              "     'correct': True}]},\n",
              "  {'question': 'How do you define a function in Python?',\n",
              "   'answers': [{'text': \"using the 'def' keyword\", 'correct': True},\n",
              "    {'text': \"using the 'function' keyword\", 'correct': False},\n",
              "    {'text': \"using the 'define' keyword\", 'correct': False},\n",
              "    {'text': \"using the 'func' keyword\", 'correct': False}]},\n",
              "  {'question': \"What is the result of the expression '3 * 4 + 2' in Python?\",\n",
              "   'answers': [{'text': '10', 'correct': False},\n",
              "    {'text': '14', 'correct': True},\n",
              "    {'text': '12', 'correct': False},\n",
              "    {'text': '18', 'correct': False}]}]}"
            ]
          },
          "metadata": {},
          "execution_count": 6
        }
      ]
    },
    {
      "cell_type": "code",
      "source": [],
      "metadata": {
        "id": "Lr6dIR1vRMLk"
      },
      "execution_count": null,
      "outputs": []
    }
  ]
}